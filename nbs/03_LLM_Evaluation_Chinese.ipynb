{
 "cells": [
  {
   "cell_type": "code",
   "execution_count": null,
   "id": "40cada06-6e6a-4eff-8ef3-a5973103ad7c",
   "metadata": {},
   "outputs": [],
   "source": [
    "#| default_exp LLM_Evaluation_Chinese"
   ]
  },
  {
   "cell_type": "markdown",
   "id": "1c40b010-eb49-4802-9d1e-699dafa2708f",
   "metadata": {},
   "source": [
    "### Procedure for Evaluation : Chinese Samples - Smriti\n",
    "\n",
    "* Open taxon, collector, geography gt-labels and the gpt-resized-results \n",
    "* Check if gpt-file has attribute of scientificname, collected by / recorded by, country/locality\n",
    "* Make count of all comparable files (some don't have valid responses - ignore these)\n",
    "* Check match of the gt with produced labels (if produced label in gt) or perhaps some better match method (similarity measures)\n",
    "* Count number of matches with some threshold value ->50% match \n",
    "* Measure of accuracy "
   ]
  },
  {
   "cell_type": "code",
   "execution_count": null,
   "id": "af56dfc0-796a-4d40-ba9c-3a4a110dcee1",
   "metadata": {},
   "outputs": [],
   "source": [
    "#| hide\n",
    "#installations necessary\n",
    "# pip install taxonerd\n",
    "# pip install https://github.com/nleguillarme/taxonerd/releases/download/v1.5.0/en_core_eco_biobert-1.0.2.tar.gz\n",
    "# pip install tqdm\n",
    "# pip install seaborn"
   ]
  },
  {
   "cell_type": "code",
   "execution_count": null,
   "id": "14e856e6-a589-4f34-af37-4ad5a08f56a0",
   "metadata": {},
   "outputs": [],
   "source": [
    "#| hide\n",
    "#import statements\n",
    "import os\n",
    "import pandas as pd\n",
    "import numpy as np\n",
    "import re\n",
    "from taxonerd import TaxoNERD\n",
    "from tqdm import tqdm\n",
    "import seaborn as sns\n",
    "import matplotlib.pyplot as plt"
   ]
  },
  {
   "cell_type": "code",
   "execution_count": null,
   "id": "5f82bf9f-c2ce-4a24-b113-e129ec293096",
   "metadata": {},
   "outputs": [
    {
     "name": "stdout",
     "output_type": "stream",
     "text": [
      "/projectnb/sparkgrp/ml-herbarium-grp/fall2023\n"
     ]
    }
   ],
   "source": [
    "print(os.getcwd())\n",
    "# os.chdir(\"gt_labels/\")\n",
    "# os.chdir(\"../ml-herbarium-data/scraped-data/drago_testdata/gt_labels\")\n",
    "os.chdir('ChineseImages/')\n",
    "gt = pd.read_csv('chineseHerbarium.csv')"
   ]
  },
  {
   "cell_type": "code",
   "execution_count": null,
   "id": "e819ddf4-8765-4589-b81a-60de66564ddf",
   "metadata": {},
   "outputs": [
    {
     "data": {
      "text/html": [
       "<div>\n",
       "<style scoped>\n",
       "    .dataframe tbody tr th:only-of-type {\n",
       "        vertical-align: middle;\n",
       "    }\n",
       "\n",
       "    .dataframe tbody tr th {\n",
       "        vertical-align: top;\n",
       "    }\n",
       "\n",
       "    .dataframe thead th {\n",
       "        text-align: right;\n",
       "    }\n",
       "</style>\n",
       "<table border=\"1\" class=\"dataframe\">\n",
       "  <thead>\n",
       "    <tr style=\"text-align: right;\">\n",
       "      <th></th>\n",
       "      <th>ReferenceID</th>\n",
       "      <th>Scientific Name</th>\n",
       "      <th>Chinese Name</th>\n",
       "      <th>Identified By</th>\n",
       "      <th>Identification Date</th>\n",
       "      <th>Collector</th>\n",
       "      <th>Collector's No</th>\n",
       "      <th>Collection Date</th>\n",
       "      <th>Locality</th>\n",
       "      <th>Elevation</th>\n",
       "      <th>Habitat</th>\n",
       "      <th>Reproductive Condition</th>\n",
       "    </tr>\n",
       "  </thead>\n",
       "  <tbody>\n",
       "    <tr>\n",
       "      <th>0</th>\n",
       "      <td>1</td>\n",
       "      <td>Callicarpa giraldii Hesse ex Rehder</td>\n",
       "      <td>老鸦糊</td>\n",
       "      <td>林祁</td>\n",
       "      <td>20170702</td>\n",
       "      <td>陈耀东, 马欣堂, 杜玉芬, 班勤</td>\n",
       "      <td>5008</td>\n",
       "      <td>19900707</td>\n",
       "      <td>中国 安徽省</td>\n",
       "      <td>370</td>\n",
       "      <td>山坡林中</td>\n",
       "      <td>有花有果</td>\n",
       "    </tr>\n",
       "    <tr>\n",
       "      <th>1</th>\n",
       "      <td>2</td>\n",
       "      <td>Arisaema erubescens Schott</td>\n",
       "      <td>一把伞南星</td>\n",
       "      <td>马政旭</td>\n",
       "      <td>NaN</td>\n",
       "      <td>NaN</td>\n",
       "      <td>467</td>\n",
       "      <td>19710728</td>\n",
       "      <td>中国 河北省</td>\n",
       "      <td>NaN</td>\n",
       "      <td>山沟林下</td>\n",
       "      <td>有花有果</td>\n",
       "    </tr>\n",
       "    <tr>\n",
       "      <th>2</th>\n",
       "      <td>3</td>\n",
       "      <td>Arisaema heterophyllum Blume</td>\n",
       "      <td>天南星</td>\n",
       "      <td>林祁</td>\n",
       "      <td>20170702</td>\n",
       "      <td>NaN</td>\n",
       "      <td>20086</td>\n",
       "      <td>19900512</td>\n",
       "      <td>中国 贵州省</td>\n",
       "      <td>790</td>\n",
       "      <td>杂木林下</td>\n",
       "      <td>有花有果</td>\n",
       "    </tr>\n",
       "    <tr>\n",
       "      <th>3</th>\n",
       "      <td>4</td>\n",
       "      <td>Saurauia tristyla DC.</td>\n",
       "      <td>水东哥</td>\n",
       "      <td>林祁</td>\n",
       "      <td>20170702</td>\n",
       "      <td>云南二队</td>\n",
       "      <td>151</td>\n",
       "      <td>19670421</td>\n",
       "      <td>中国 云南省</td>\n",
       "      <td>800</td>\n",
       "      <td>山坡丛林</td>\n",
       "      <td>有花有果</td>\n",
       "    </tr>\n",
       "    <tr>\n",
       "      <th>4</th>\n",
       "      <td>5</td>\n",
       "      <td>Juncus Linn</td>\n",
       "      <td>灯心草属</td>\n",
       "      <td>林祁</td>\n",
       "      <td>20170702</td>\n",
       "      <td>榆东组</td>\n",
       "      <td>5</td>\n",
       "      <td>19680714</td>\n",
       "      <td>中国 陕西省</td>\n",
       "      <td>NaN</td>\n",
       "      <td>NaN</td>\n",
       "      <td>有花无果</td>\n",
       "    </tr>\n",
       "  </tbody>\n",
       "</table>\n",
       "</div>"
      ],
      "text/plain": [
       "   ReferenceID                      Scientific Name Chinese Name  \\\n",
       "0            1  Callicarpa giraldii Hesse ex Rehder          老鸦糊   \n",
       "1            2           Arisaema erubescens Schott        一把伞南星   \n",
       "2            3         Arisaema heterophyllum Blume          天南星   \n",
       "3            4                Saurauia tristyla DC.          水东哥   \n",
       "4            5                          Juncus Linn         灯心草属   \n",
       "\n",
       "  Identified By Identification Date           Collector Collector's No  \\\n",
       "0            林祁            20170702   陈耀东, 马欣堂, 杜玉芬, 班勤           5008   \n",
       "1           马政旭                 NaN                 NaN            467   \n",
       "2            林祁            20170702                 NaN          20086   \n",
       "3            林祁            20170702                云南二队            151   \n",
       "4            林祁            20170702                 榆东组              5   \n",
       "\n",
       "   Collection Date Locality Elevation Habitat Reproductive Condition  \n",
       "0         19900707   中国 安徽省       370    山坡林中                   有花有果  \n",
       "1         19710728   中国 河北省       NaN    山沟林下                   有花有果  \n",
       "2         19900512   中国 贵州省       790    杂木林下                   有花有果  \n",
       "3         19670421   中国 云南省       800    山坡丛林                   有花有果  \n",
       "4         19680714   中国 陕西省       NaN     NaN                   有花无果  "
      ]
     },
     "execution_count": null,
     "metadata": {},
     "output_type": "execute_result"
    }
   ],
   "source": [
    "gt.head()"
   ]
  },
  {
   "cell_type": "code",
   "execution_count": null,
   "id": "d05ef91c-37b7-4460-becf-e6d51d87a9b4",
   "metadata": {},
   "outputs": [],
   "source": [
    "gt = gt.rename(columns={'ReferenceID': 'ID'})"
   ]
  },
  {
   "cell_type": "code",
   "execution_count": null,
   "id": "6839638d-2454-4314-871e-a2a8e170e352",
   "metadata": {},
   "outputs": [
    {
     "name": "stdout",
     "output_type": "stream",
     "text": [
      "/projectnb/sparkgrp/ml-herbarium-grp/fall2023/ChineseResults\n",
      "True\n"
     ]
    }
   ],
   "source": [
    "#Load the azure vision results\n",
    "os.chdir('../ChineseResults/')\n",
    "print(os.getcwd())\n",
    "# os.chdir('/projectnb/sparkgrp/ml-herbarium-grp/fall2023/temp/')\n",
    "\n",
    "folder_path = os.getcwd()\n",
    "result_files = [f for f in os.listdir(folder_path) if os.path.isfile(os.path.join(folder_path, f)) and f.endswith(('txt'))]\n",
    "\n",
    "#checking for duplicate files\n",
    "print(len(result_files)==len(set(result_files)))\n",
    "rows = []\n",
    "for i in result_files:\n",
    "    # print(i)\n",
    "    # break\n",
    "    f = open(i, 'r')\n",
    "    lines = f.readlines()\n",
    "    new_row=[]\n",
    "    taxon_res=\"\"\n",
    "    geo_res=\"\"\n",
    "    col_res=\"\"\n",
    "    \n",
    "    for line in lines:\n",
    "        if \"scientificname\\\":\" in line.lower():\n",
    "            taxon_res=line.strip().split(\":\")[1].replace(\",\",\"\").replace('\"', '').lstrip()\n",
    "        if \"country\\\":\" in line.lower():\n",
    "            geo_res=line.strip().split(\":\")[1].replace(\",\",\"\").replace('\"', '').lstrip()\n",
    "        if \"collectedby\\\":\" in line.lower() or \"recordedby\\\":\" in line.lower() or \"collector\\\":\" in line.lower():\n",
    "            # print(line.strip().split(\":\"))\n",
    "            col_res=line.strip().split(\":\")[1].replace(\",\",\"\").replace('\"', '').lstrip()\n",
    "            \n",
    "    new_row = [i.replace('.txt',''),taxon_res,col_res,geo_res]\n",
    "    rows.append(new_row)\n",
    "    f.close()\n"
   ]
  },
  {
   "cell_type": "code",
   "execution_count": null,
   "id": "84565661-7a42-41ab-b760-88c82ce18579",
   "metadata": {},
   "outputs": [],
   "source": [
    "rt = pd.DataFrame(rows, columns=['ID', 'rTaxon', 'rCollector', 'rGeography'])"
   ]
  },
  {
   "cell_type": "code",
   "execution_count": null,
   "id": "de0a647d-cd42-460b-b3e4-661b2f9e846d",
   "metadata": {},
   "outputs": [
    {
     "data": {
      "text/plain": [
       "37"
      ]
     },
     "execution_count": null,
     "metadata": {},
     "output_type": "execute_result"
    }
   ],
   "source": [
    "len(rt)"
   ]
  },
  {
   "cell_type": "code",
   "execution_count": null,
   "id": "860c64a6-5882-4f4a-8d40-830aac276097",
   "metadata": {},
   "outputs": [
    {
     "data": {
      "text/plain": [
       "False"
      ]
     },
     "execution_count": null,
     "metadata": {},
     "output_type": "execute_result"
    }
   ],
   "source": [
    "rt.isnull().values.any()"
   ]
  },
  {
   "cell_type": "code",
   "execution_count": null,
   "id": "fe990b07-d57b-49cf-be51-c62147dd646f",
   "metadata": {},
   "outputs": [
    {
     "data": {
      "text/plain": [
       "(array([], dtype=int64), array([], dtype=int64))"
      ]
     },
     "execution_count": null,
     "metadata": {},
     "output_type": "execute_result"
    }
   ],
   "source": [
    "import numpy as np\n",
    "np.where(pd.isnull(rt))"
   ]
  },
  {
   "cell_type": "code",
   "execution_count": null,
   "id": "b5abb290-ef97-486c-aea7-51b4b22dc7dc",
   "metadata": {},
   "outputs": [
    {
     "data": {
      "text/plain": [
       "(array([ 0,  1,  1,  2,  4,  5,  6,  7,  8,  8,  9, 10, 11, 12, 13, 14, 14,\n",
       "        16, 16, 16, 17, 18, 19, 19, 21, 21, 22, 22, 23, 24, 25, 27, 29, 29,\n",
       "        29, 30, 31, 31, 32, 32, 34, 35, 35, 36, 36, 36]),\n",
       " array([2, 1, 2, 2, 2, 2, 2, 2, 1, 2, 2, 2, 1, 2, 2, 1, 2, 1, 2, 3, 2, 1,\n",
       "        1, 2, 2, 3, 1, 2, 2, 2, 1, 2, 1, 2, 3, 2, 1, 2, 1, 2, 2, 1, 2, 1,\n",
       "        2, 3]))"
      ]
     },
     "execution_count": null,
     "metadata": {},
     "output_type": "execute_result"
    }
   ],
   "source": [
    "np.where(rt.map(lambda x: x == ''))"
   ]
  },
  {
   "cell_type": "markdown",
   "id": "9868bfe6-6c4d-49cd-b348-3859b83c255c",
   "metadata": {},
   "source": [
    "### Noting down empty values"
   ]
  },
  {
   "cell_type": "code",
   "execution_count": null,
   "id": "0f2d6b3e-4bc4-4ade-8d74-3ed161c90743",
   "metadata": {},
   "outputs": [
    {
     "data": {
      "text/plain": [
       "1     21\n",
       "8     23\n",
       "11    27\n",
       "14    31\n",
       "16     3\n",
       "18    18\n",
       "19    11\n",
       "22    22\n",
       "25    33\n",
       "29     7\n",
       "31    13\n",
       "32    24\n",
       "35    10\n",
       "36     5\n",
       "Name: ID, dtype: object"
      ]
     },
     "execution_count": null,
     "metadata": {},
     "output_type": "execute_result"
    }
   ],
   "source": [
    "rt[rt['rTaxon'] == '']['ID']"
   ]
  },
  {
   "cell_type": "code",
   "execution_count": null,
   "id": "6ee16168-597f-4a29-94e9-7d3f5ff2a093",
   "metadata": {},
   "outputs": [
    {
     "data": {
      "text/plain": [
       "0     28\n",
       "1     21\n",
       "2     32\n",
       "4     25\n",
       "5     36\n",
       "6     19\n",
       "7     12\n",
       "8     23\n",
       "9     16\n",
       "10    34\n",
       "12    20\n",
       "13     4\n",
       "14    31\n",
       "16     3\n",
       "17    35\n",
       "19    11\n",
       "21    29\n",
       "22    22\n",
       "23     9\n",
       "24     1\n",
       "27    26\n",
       "29     7\n",
       "30    30\n",
       "31    13\n",
       "32    24\n",
       "34    17\n",
       "35    10\n",
       "36     5\n",
       "Name: ID, dtype: object"
      ]
     },
     "execution_count": null,
     "metadata": {},
     "output_type": "execute_result"
    }
   ],
   "source": [
    "rt[rt['rCollector'] == '']['ID']"
   ]
  },
  {
   "cell_type": "code",
   "execution_count": null,
   "id": "9216c99c-f8ac-4d98-99bb-c91f67e8c519",
   "metadata": {},
   "outputs": [
    {
     "data": {
      "text/plain": [
       "16     3\n",
       "21    29\n",
       "29     7\n",
       "36     5\n",
       "Name: ID, dtype: object"
      ]
     },
     "execution_count": null,
     "metadata": {},
     "output_type": "execute_result"
    }
   ],
   "source": [
    "rt[rt['rGeography'] == '']['ID']"
   ]
  },
  {
   "cell_type": "markdown",
   "id": "5028a755-226e-4e83-84eb-aee9aeeb9fb7",
   "metadata": {},
   "source": [
    "## Comparison with Ground Truth Labels"
   ]
  },
  {
   "cell_type": "markdown",
   "id": "7f3c3067-b4f6-42de-b287-3493971b4531",
   "metadata": {},
   "source": [
    "### 1. Accuracy with direct comparison"
   ]
  },
  {
   "cell_type": "code",
   "execution_count": null,
   "id": "564e9853-50f5-4941-b81d-d4baa159a989",
   "metadata": {},
   "outputs": [],
   "source": [
    "rt['ID'] = rt['ID'].astype(str).astype(int)"
   ]
  },
  {
   "cell_type": "code",
   "execution_count": null,
   "id": "3c2bfe69-4743-43ce-94ac-d3e3376aa3c2",
   "metadata": {},
   "outputs": [],
   "source": [
    "new_df = (pd.merge(gt, rt, on='ID'))"
   ]
  },
  {
   "cell_type": "code",
   "execution_count": null,
   "id": "423ce9cd-11fb-47c8-9daa-31e4a647db3c",
   "metadata": {},
   "outputs": [
    {
     "data": {
      "text/html": [
       "<div>\n",
       "<style scoped>\n",
       "    .dataframe tbody tr th:only-of-type {\n",
       "        vertical-align: middle;\n",
       "    }\n",
       "\n",
       "    .dataframe tbody tr th {\n",
       "        vertical-align: top;\n",
       "    }\n",
       "\n",
       "    .dataframe thead th {\n",
       "        text-align: right;\n",
       "    }\n",
       "</style>\n",
       "<table border=\"1\" class=\"dataframe\">\n",
       "  <thead>\n",
       "    <tr style=\"text-align: right;\">\n",
       "      <th></th>\n",
       "      <th>ID</th>\n",
       "      <th>Scientific Name</th>\n",
       "      <th>Chinese Name</th>\n",
       "      <th>Identified By</th>\n",
       "      <th>Identification Date</th>\n",
       "      <th>Collector</th>\n",
       "      <th>Collector's No</th>\n",
       "      <th>Collection Date</th>\n",
       "      <th>Locality</th>\n",
       "      <th>Elevation</th>\n",
       "      <th>Habitat</th>\n",
       "      <th>Reproductive Condition</th>\n",
       "      <th>rTaxon</th>\n",
       "      <th>rCollector</th>\n",
       "      <th>rGeography</th>\n",
       "    </tr>\n",
       "  </thead>\n",
       "  <tbody>\n",
       "    <tr>\n",
       "      <th>0</th>\n",
       "      <td>1</td>\n",
       "      <td>Callicarpa giraldii Hesse ex Rehder</td>\n",
       "      <td>老鸦糊</td>\n",
       "      <td>林祁</td>\n",
       "      <td>20170702</td>\n",
       "      <td>陈耀东, 马欣堂, 杜玉芬, 班勤</td>\n",
       "      <td>5008</td>\n",
       "      <td>19900707</td>\n",
       "      <td>中国 安徽省</td>\n",
       "      <td>370</td>\n",
       "      <td>山坡林中</td>\n",
       "      <td>有花有果</td>\n",
       "      <td>Clerodendrum japonicum (Thunb.) Sweet</td>\n",
       "      <td></td>\n",
       "      <td>China</td>\n",
       "    </tr>\n",
       "    <tr>\n",
       "      <th>1</th>\n",
       "      <td>2</td>\n",
       "      <td>Arisaema erubescens Schott</td>\n",
       "      <td>一把伞南星</td>\n",
       "      <td>马政旭</td>\n",
       "      <td>NaN</td>\n",
       "      <td>NaN</td>\n",
       "      <td>467</td>\n",
       "      <td>19710728</td>\n",
       "      <td>中国 河北省</td>\n",
       "      <td>NaN</td>\n",
       "      <td>山沟林下</td>\n",
       "      <td>有花有果</td>\n",
       "      <td>Caliarpa girakai</td>\n",
       "      <td>Ribe.</td>\n",
       "      <td>unknown</td>\n",
       "    </tr>\n",
       "    <tr>\n",
       "      <th>2</th>\n",
       "      <td>3</td>\n",
       "      <td>Arisaema heterophyllum Blume</td>\n",
       "      <td>天南星</td>\n",
       "      <td>林祁</td>\n",
       "      <td>20170702</td>\n",
       "      <td>NaN</td>\n",
       "      <td>20086</td>\n",
       "      <td>19900512</td>\n",
       "      <td>中国 贵州省</td>\n",
       "      <td>790</td>\n",
       "      <td>杂木林下</td>\n",
       "      <td>有花有果</td>\n",
       "      <td></td>\n",
       "      <td></td>\n",
       "      <td></td>\n",
       "    </tr>\n",
       "    <tr>\n",
       "      <th>3</th>\n",
       "      <td>4</td>\n",
       "      <td>Saurauia tristyla DC.</td>\n",
       "      <td>水东哥</td>\n",
       "      <td>林祁</td>\n",
       "      <td>20170702</td>\n",
       "      <td>云南二队</td>\n",
       "      <td>151</td>\n",
       "      <td>19670421</td>\n",
       "      <td>中国 云南省</td>\n",
       "      <td>800</td>\n",
       "      <td>山坡丛林</td>\n",
       "      <td>有花有果</td>\n",
       "      <td>Saarmia oistyla</td>\n",
       "      <td></td>\n",
       "      <td>China</td>\n",
       "    </tr>\n",
       "    <tr>\n",
       "      <th>4</th>\n",
       "      <td>5</td>\n",
       "      <td>Juncus Linn</td>\n",
       "      <td>灯心草属</td>\n",
       "      <td>林祁</td>\n",
       "      <td>20170702</td>\n",
       "      <td>榆东组</td>\n",
       "      <td>5</td>\n",
       "      <td>19680714</td>\n",
       "      <td>中国 陕西省</td>\n",
       "      <td>NaN</td>\n",
       "      <td>NaN</td>\n",
       "      <td>有花无果</td>\n",
       "      <td></td>\n",
       "      <td></td>\n",
       "      <td></td>\n",
       "    </tr>\n",
       "  </tbody>\n",
       "</table>\n",
       "</div>"
      ],
      "text/plain": [
       "   ID                      Scientific Name Chinese Name Identified By  \\\n",
       "0   1  Callicarpa giraldii Hesse ex Rehder          老鸦糊            林祁   \n",
       "1   2           Arisaema erubescens Schott        一把伞南星           马政旭   \n",
       "2   3         Arisaema heterophyllum Blume          天南星            林祁   \n",
       "3   4                Saurauia tristyla DC.          水东哥            林祁   \n",
       "4   5                          Juncus Linn         灯心草属            林祁   \n",
       "\n",
       "  Identification Date           Collector Collector's No  Collection Date  \\\n",
       "0            20170702   陈耀东, 马欣堂, 杜玉芬, 班勤           5008         19900707   \n",
       "1                 NaN                 NaN            467         19710728   \n",
       "2            20170702                 NaN          20086         19900512   \n",
       "3            20170702                云南二队            151         19670421   \n",
       "4            20170702                 榆东组              5         19680714   \n",
       "\n",
       "  Locality Elevation Habitat Reproductive Condition  \\\n",
       "0   中国 安徽省       370    山坡林中                   有花有果   \n",
       "1   中国 河北省       NaN    山沟林下                   有花有果   \n",
       "2   中国 贵州省       790    杂木林下                   有花有果   \n",
       "3   中国 云南省       800    山坡丛林                   有花有果   \n",
       "4   中国 陕西省       NaN     NaN                   有花无果   \n",
       "\n",
       "                                  rTaxon rCollector rGeography  \n",
       "0  Clerodendrum japonicum (Thunb.) Sweet                 China  \n",
       "1                       Caliarpa girakai      Ribe.    unknown  \n",
       "2                                                               \n",
       "3                        Saarmia oistyla                 China  \n",
       "4                                                               "
      ]
     },
     "execution_count": null,
     "metadata": {},
     "output_type": "execute_result"
    }
   ],
   "source": [
    "new_df.head()"
   ]
  },
  {
   "cell_type": "code",
   "execution_count": null,
   "id": "0e9976fb-25d4-467e-8821-6a1c86c6b6de",
   "metadata": {},
   "outputs": [
    {
     "data": {
      "text/plain": [
       "(array([ 1,  1,  1,  2,  4,  4,  8,  8,  8, 15, 15, 15, 17, 18, 19, 19, 19,\n",
       "        21, 21, 24, 25, 26, 27, 28, 30, 30, 30, 31, 32, 34, 34, 34, 34]),\n",
       " array([ 4,  5,  9,  5,  9, 10,  3,  4, 10,  5,  9, 10,  9,  9,  2,  9, 10,\n",
       "         3,  4,  5,  9,  9,  2,  1,  3,  4, 10,  9,  9,  3,  6,  9, 10]))"
      ]
     },
     "execution_count": null,
     "metadata": {},
     "output_type": "execute_result"
    }
   ],
   "source": [
    "np.where(pd.isnull(new_df))"
   ]
  },
  {
   "cell_type": "code",
   "execution_count": null,
   "id": "e9680662-2bf0-404d-915e-413855edaf5a",
   "metadata": {},
   "outputs": [
    {
     "data": {
      "text/plain": [
       "(array([ 0,  2,  2,  2,  3,  4,  4,  4,  6,  6,  6,  8,  9,  9, 10, 10, 11,\n",
       "        12, 12, 15, 16, 17, 18, 19, 20, 20, 21, 21, 22, 22, 23, 23, 24, 25,\n",
       "        26, 27, 28, 28, 29, 30, 30, 31, 32, 33, 34, 35]),\n",
       " array([13, 12, 13, 14, 13, 12, 13, 14, 12, 13, 14, 13, 12, 13, 12, 13, 13,\n",
       "        12, 13, 13, 13, 12, 13, 13, 12, 13, 12, 13, 12, 13, 12, 13, 13, 13,\n",
       "        12, 13, 13, 14, 13, 12, 13, 13, 12, 13, 13, 13]))"
      ]
     },
     "execution_count": null,
     "metadata": {},
     "output_type": "execute_result"
    }
   ],
   "source": [
    "np.where(new_df.map(lambda x: x == ''))"
   ]
  },
  {
   "cell_type": "code",
   "execution_count": null,
   "id": "a02a0587-8765-480e-90df-a99342583ae7",
   "metadata": {},
   "outputs": [
    {
     "data": {
      "text/plain": [
       "37"
      ]
     },
     "execution_count": null,
     "metadata": {},
     "output_type": "execute_result"
    }
   ],
   "source": [
    "len(new_df)"
   ]
  },
  {
   "cell_type": "code",
   "execution_count": null,
   "id": "2126f4c8-a3d5-4194-9547-b7eac2febcb0",
   "metadata": {},
   "outputs": [],
   "source": [
    "##Replacing all USA variations with one label\n",
    "\n",
    "# for i in new_df['rGeography']:\n",
    "#     if i==\"USA\" in i or \"United States\" in i:\n",
    "\n",
    "new_df['rGeography'] = new_df['rGeography'].apply(lambda i: \"united states of america\" if i.lower() in [\"usa\",\"united states\",\"us\"] else i)"
   ]
  },
  {
   "cell_type": "code",
   "execution_count": null,
   "id": "7639aacc-4d2a-4e53-9a7f-5e8d0c4363f6",
   "metadata": {},
   "outputs": [
    {
     "data": {
      "text/html": [
       "<div>\n",
       "<style scoped>\n",
       "    .dataframe tbody tr th:only-of-type {\n",
       "        vertical-align: middle;\n",
       "    }\n",
       "\n",
       "    .dataframe tbody tr th {\n",
       "        vertical-align: top;\n",
       "    }\n",
       "\n",
       "    .dataframe thead th {\n",
       "        text-align: right;\n",
       "    }\n",
       "</style>\n",
       "<table border=\"1\" class=\"dataframe\">\n",
       "  <thead>\n",
       "    <tr style=\"text-align: right;\">\n",
       "      <th></th>\n",
       "      <th>ID</th>\n",
       "      <th>Scientific Name</th>\n",
       "      <th>Chinese Name</th>\n",
       "      <th>Identified By</th>\n",
       "      <th>Identification Date</th>\n",
       "      <th>Collector</th>\n",
       "      <th>Collector's No</th>\n",
       "      <th>Collection Date</th>\n",
       "      <th>Locality</th>\n",
       "      <th>Elevation</th>\n",
       "      <th>Habitat</th>\n",
       "      <th>Reproductive Condition</th>\n",
       "      <th>rTaxon</th>\n",
       "      <th>rCollector</th>\n",
       "      <th>rGeography</th>\n",
       "    </tr>\n",
       "  </thead>\n",
       "  <tbody>\n",
       "    <tr>\n",
       "      <th>12</th>\n",
       "      <td>13</td>\n",
       "      <td>Skimmia reevesiana R.Fortune</td>\n",
       "      <td>茵芋</td>\n",
       "      <td>林祁</td>\n",
       "      <td>20170702</td>\n",
       "      <td>调查队</td>\n",
       "      <td>660476</td>\n",
       "      <td>19660423</td>\n",
       "      <td>中国 江西省</td>\n",
       "      <td>1600</td>\n",
       "      <td>山顶沟谷矮林中</td>\n",
       "      <td>有花无果</td>\n",
       "      <td></td>\n",
       "      <td></td>\n",
       "      <td>Unable to determine; possibly inferred from th...</td>\n",
       "    </tr>\n",
       "    <tr>\n",
       "      <th>27</th>\n",
       "      <td>28</td>\n",
       "      <td>Corydalis balsamiflora Prain</td>\n",
       "      <td>NaN</td>\n",
       "      <td>Magnus Liden</td>\n",
       "      <td>20170000</td>\n",
       "      <td>张永田,郎楷永</td>\n",
       "      <td>4</td>\n",
       "      <td>19650626</td>\n",
       "      <td>中国 四川省</td>\n",
       "      <td>2750</td>\n",
       "      <td>山坡水边</td>\n",
       "      <td>有花无果</td>\n",
       "      <td>Ceridalo babamitors Prun</td>\n",
       "      <td></td>\n",
       "      <td>Unknown</td>\n",
       "    </tr>\n",
       "  </tbody>\n",
       "</table>\n",
       "</div>"
      ],
      "text/plain": [
       "    ID               Scientific Name Chinese Name Identified By  \\\n",
       "12  13  Skimmia reevesiana R.Fortune           茵芋            林祁   \n",
       "27  28  Corydalis balsamiflora Prain          NaN  Magnus Liden   \n",
       "\n",
       "   Identification Date Collector Collector's No  Collection Date Locality  \\\n",
       "12            20170702       调查队         660476         19660423   中国 江西省   \n",
       "27            20170000   张永田,郎楷永              4         19650626  中国 四川省    \n",
       "\n",
       "   Elevation  Habitat Reproductive Condition                    rTaxon  \\\n",
       "12      1600  山顶沟谷矮林中                   有花无果                             \n",
       "27      2750     山坡水边                   有花无果  Ceridalo babamitors Prun   \n",
       "\n",
       "   rCollector                                         rGeography  \n",
       "12             Unable to determine; possibly inferred from th...  \n",
       "27                                                       Unknown  "
      ]
     },
     "execution_count": null,
     "metadata": {},
     "output_type": "execute_result"
    }
   ],
   "source": [
    "new_df[new_df['rGeography'].str.startswith(\"U\")]"
   ]
  },
  {
   "cell_type": "code",
   "execution_count": null,
   "id": "a142e5b8-aadc-4f6d-81c2-a0a0c42016fa",
   "metadata": {},
   "outputs": [],
   "source": [
    "p = re.compile(r'[^\\w\\s]+')\n",
    "\n",
    "for i in new_df[['Scientific Name','rTaxon']]:\n",
    "    if i==\"ID\":\n",
    "        continue\n",
    "    new_df[i] = new_df[i].astype(str)\n",
    "    new_df[i] = new_df[i].str.lower()\n",
    "    new_df[i] = [p.sub('', x) for x in new_df[i].tolist()]"
   ]
  },
  {
   "cell_type": "code",
   "execution_count": null,
   "id": "ee5d7a96-bf23-48b7-b870-536b0d0f8b2e",
   "metadata": {},
   "outputs": [
    {
     "data": {
      "text/html": [
       "<div>\n",
       "<style scoped>\n",
       "    .dataframe tbody tr th:only-of-type {\n",
       "        vertical-align: middle;\n",
       "    }\n",
       "\n",
       "    .dataframe tbody tr th {\n",
       "        vertical-align: top;\n",
       "    }\n",
       "\n",
       "    .dataframe thead th {\n",
       "        text-align: right;\n",
       "    }\n",
       "</style>\n",
       "<table border=\"1\" class=\"dataframe\">\n",
       "  <thead>\n",
       "    <tr style=\"text-align: right;\">\n",
       "      <th></th>\n",
       "      <th>ID</th>\n",
       "      <th>Scientific Name</th>\n",
       "      <th>Chinese Name</th>\n",
       "      <th>Identified By</th>\n",
       "      <th>Identification Date</th>\n",
       "      <th>Collector</th>\n",
       "      <th>Collector's No</th>\n",
       "      <th>Collection Date</th>\n",
       "      <th>Locality</th>\n",
       "      <th>Elevation</th>\n",
       "      <th>Habitat</th>\n",
       "      <th>Reproductive Condition</th>\n",
       "      <th>rTaxon</th>\n",
       "      <th>rCollector</th>\n",
       "      <th>rGeography</th>\n",
       "    </tr>\n",
       "  </thead>\n",
       "  <tbody>\n",
       "    <tr>\n",
       "      <th>0</th>\n",
       "      <td>1</td>\n",
       "      <td>callicarpa giraldii hesse ex rehder</td>\n",
       "      <td>老鸦糊</td>\n",
       "      <td>林祁</td>\n",
       "      <td>20170702</td>\n",
       "      <td>陈耀东, 马欣堂, 杜玉芬, 班勤</td>\n",
       "      <td>5008</td>\n",
       "      <td>19900707</td>\n",
       "      <td>中国 安徽省</td>\n",
       "      <td>370</td>\n",
       "      <td>山坡林中</td>\n",
       "      <td>有花有果</td>\n",
       "      <td>clerodendrum japonicum thunb sweet</td>\n",
       "      <td></td>\n",
       "      <td>China</td>\n",
       "    </tr>\n",
       "    <tr>\n",
       "      <th>1</th>\n",
       "      <td>2</td>\n",
       "      <td>arisaema erubescens schott</td>\n",
       "      <td>一把伞南星</td>\n",
       "      <td>马政旭</td>\n",
       "      <td>NaN</td>\n",
       "      <td>NaN</td>\n",
       "      <td>467</td>\n",
       "      <td>19710728</td>\n",
       "      <td>中国 河北省</td>\n",
       "      <td>NaN</td>\n",
       "      <td>山沟林下</td>\n",
       "      <td>有花有果</td>\n",
       "      <td>caliarpa girakai</td>\n",
       "      <td>Ribe.</td>\n",
       "      <td>unknown</td>\n",
       "    </tr>\n",
       "    <tr>\n",
       "      <th>2</th>\n",
       "      <td>3</td>\n",
       "      <td>arisaema heterophyllum blume</td>\n",
       "      <td>天南星</td>\n",
       "      <td>林祁</td>\n",
       "      <td>20170702</td>\n",
       "      <td>NaN</td>\n",
       "      <td>20086</td>\n",
       "      <td>19900512</td>\n",
       "      <td>中国 贵州省</td>\n",
       "      <td>790</td>\n",
       "      <td>杂木林下</td>\n",
       "      <td>有花有果</td>\n",
       "      <td></td>\n",
       "      <td></td>\n",
       "      <td></td>\n",
       "    </tr>\n",
       "    <tr>\n",
       "      <th>3</th>\n",
       "      <td>4</td>\n",
       "      <td>saurauia tristyla dc</td>\n",
       "      <td>水东哥</td>\n",
       "      <td>林祁</td>\n",
       "      <td>20170702</td>\n",
       "      <td>云南二队</td>\n",
       "      <td>151</td>\n",
       "      <td>19670421</td>\n",
       "      <td>中国 云南省</td>\n",
       "      <td>800</td>\n",
       "      <td>山坡丛林</td>\n",
       "      <td>有花有果</td>\n",
       "      <td>saarmia oistyla</td>\n",
       "      <td></td>\n",
       "      <td>China</td>\n",
       "    </tr>\n",
       "    <tr>\n",
       "      <th>4</th>\n",
       "      <td>5</td>\n",
       "      <td>juncus linn</td>\n",
       "      <td>灯心草属</td>\n",
       "      <td>林祁</td>\n",
       "      <td>20170702</td>\n",
       "      <td>榆东组</td>\n",
       "      <td>5</td>\n",
       "      <td>19680714</td>\n",
       "      <td>中国 陕西省</td>\n",
       "      <td>NaN</td>\n",
       "      <td>NaN</td>\n",
       "      <td>有花无果</td>\n",
       "      <td></td>\n",
       "      <td></td>\n",
       "      <td></td>\n",
       "    </tr>\n",
       "  </tbody>\n",
       "</table>\n",
       "</div>"
      ],
      "text/plain": [
       "   ID                      Scientific Name Chinese Name Identified By  \\\n",
       "0   1  callicarpa giraldii hesse ex rehder          老鸦糊            林祁   \n",
       "1   2           arisaema erubescens schott        一把伞南星           马政旭   \n",
       "2   3         arisaema heterophyllum blume          天南星            林祁   \n",
       "3   4                 saurauia tristyla dc          水东哥            林祁   \n",
       "4   5                          juncus linn         灯心草属            林祁   \n",
       "\n",
       "  Identification Date           Collector Collector's No  Collection Date  \\\n",
       "0            20170702   陈耀东, 马欣堂, 杜玉芬, 班勤           5008         19900707   \n",
       "1                 NaN                 NaN            467         19710728   \n",
       "2            20170702                 NaN          20086         19900512   \n",
       "3            20170702                云南二队            151         19670421   \n",
       "4            20170702                 榆东组              5         19680714   \n",
       "\n",
       "  Locality Elevation Habitat Reproductive Condition  \\\n",
       "0   中国 安徽省       370    山坡林中                   有花有果   \n",
       "1   中国 河北省       NaN    山沟林下                   有花有果   \n",
       "2   中国 贵州省       790    杂木林下                   有花有果   \n",
       "3   中国 云南省       800    山坡丛林                   有花有果   \n",
       "4   中国 陕西省       NaN     NaN                   有花无果   \n",
       "\n",
       "                               rTaxon rCollector rGeography  \n",
       "0  clerodendrum japonicum thunb sweet                 China  \n",
       "1                    caliarpa girakai      Ribe.    unknown  \n",
       "2                                                            \n",
       "3                     saarmia oistyla                 China  \n",
       "4                                                            "
      ]
     },
     "execution_count": null,
     "metadata": {},
     "output_type": "execute_result"
    }
   ],
   "source": [
    "new_df.head()"
   ]
  },
  {
   "cell_type": "markdown",
   "id": "e5acc560-59e8-4743-a445-1fe6c16aec46",
   "metadata": {},
   "source": [
    "## Taxon Metrics"
   ]
  },
  {
   "cell_type": "markdown",
   "id": "1ee8b0c4-84b3-4ee0-87b6-ae8e38ea8a99",
   "metadata": {},
   "source": [
    "### 1. Accuracy"
   ]
  },
  {
   "cell_type": "code",
   "execution_count": null,
   "id": "eab083af-5232-44da-a936-dd3eb2933268",
   "metadata": {},
   "outputs": [],
   "source": [
    "#Taxon accuracy - count as 1 only if ground truth label is present as is in extracted label\n",
    "c=0\n",
    "for index, row in new_df.iterrows():\n",
    "    if row['Scientific Name'].lower() in row['rTaxon'].lower():\n",
    "        c+=1"
   ]
  },
  {
   "cell_type": "code",
   "execution_count": null,
   "id": "e418c60c-750d-4f10-9294-639db295ea05",
   "metadata": {},
   "outputs": [
    {
     "name": "stdout",
     "output_type": "stream",
     "text": [
      "0\n"
     ]
    }
   ],
   "source": [
    "print(c)"
   ]
  },
  {
   "cell_type": "code",
   "execution_count": null,
   "id": "2aa6527b-7d57-425c-b732-5cb28afff52a",
   "metadata": {},
   "outputs": [
    {
     "name": "stdout",
     "output_type": "stream",
     "text": [
      "Accuracy obtained : 0.0%\n"
     ]
    }
   ],
   "source": [
    "acc = c/len(new_df)*100\n",
    "print(f\"Accuracy obtained : {acc}%\")"
   ]
  },
  {
   "cell_type": "code",
   "execution_count": null,
   "id": "99201349-032b-4b6e-a13b-4d1675e69f66",
   "metadata": {},
   "outputs": [],
   "source": [
    "# Approach 2 : count as 1 if any word in ground truth label is present in extracted label\n",
    "\n",
    "c=0\n",
    "for index, row in new_df.iterrows():\n",
    "    if any(x in row['rTaxon'].lower() for x in row['Scientific Name'].lower().split()):\n",
    "        c+=1"
   ]
  },
  {
   "cell_type": "code",
   "execution_count": null,
   "id": "f49411e0-5314-4af1-87e9-543d77612dde",
   "metadata": {},
   "outputs": [
    {
     "name": "stdout",
     "output_type": "stream",
     "text": [
      "Accuracy obtained : 2.7027027027027026%\n"
     ]
    }
   ],
   "source": [
    "acc = c/len(new_df)*100\n",
    "print(f\"Accuracy obtained : {acc}%\")"
   ]
  },
  {
   "cell_type": "code",
   "execution_count": null,
   "id": "8eeb7883-9532-4297-842b-25750e04b5e1",
   "metadata": {},
   "outputs": [],
   "source": [
    "tax_acc = acc"
   ]
  },
  {
   "cell_type": "code",
   "execution_count": null,
   "id": "807b1cdf-48d0-4eb5-a22d-44b32e81c2b1",
   "metadata": {},
   "outputs": [],
   "source": [
    "# Approach 3 : count as 1 if all words in ground truth label is present in extracted label (need not be in order)\n",
    "\n",
    "c=0\n",
    "for index, row in new_df.iterrows():\n",
    "    if(set(row['Scientific Name'].lower().split()).issubset(set(row['rTaxon'].lower().split()))):\n",
    "        c+=1"
   ]
  },
  {
   "cell_type": "code",
   "execution_count": null,
   "id": "b77bc03b-4d89-454f-bc28-ca46fbe3833e",
   "metadata": {},
   "outputs": [
    {
     "name": "stdout",
     "output_type": "stream",
     "text": [
      "0\n"
     ]
    }
   ],
   "source": [
    "print(c)"
   ]
  },
  {
   "cell_type": "code",
   "execution_count": null,
   "id": "71e42d2b-9ad2-4459-92da-4f3d293eaa9d",
   "metadata": {},
   "outputs": [
    {
     "name": "stdout",
     "output_type": "stream",
     "text": [
      "Accuracy obtained : 0.0%\n"
     ]
    }
   ],
   "source": [
    "acc = c/len(new_df)*100\n",
    "print(f\"Accuracy obtained : {acc}%\")"
   ]
  },
  {
   "cell_type": "markdown",
   "id": "7b36d234-39b5-46b6-9d96-ad74c24ce230",
   "metadata": {},
   "source": [
    "### 2. Different Approach : Compare words in the whole text not just specific labels"
   ]
  },
  {
   "cell_type": "code",
   "execution_count": null,
   "id": "5938d4b1-7afc-49bb-b98c-90382da916c9",
   "metadata": {},
   "outputs": [
    {
     "name": "stdout",
     "output_type": "stream",
     "text": [
      "/projectnb/sparkgrp/ml-herbarium-grp/fall2023/ChineseResults\n",
      "True\n"
     ]
    }
   ],
   "source": [
    "#Load the azure vision results\n",
    "os.chdir('../ChineseResults/')\n",
    "print(os.getcwd())\n",
    "# os.chdir('/projectnb/sparkgrp/ml-herbarium-grp/fall2023/temp/')\n",
    "\n",
    "folder_path = os.getcwd()\n",
    "result_files = [f for f in os.listdir(folder_path) if os.path.isfile(os.path.join(folder_path, f)) and f.endswith(('txt'))]\n",
    "\n",
    "#checking for duplicate files\n",
    "print(len(result_files)==len(set(result_files)))\n",
    "rows = []\n",
    "for i in result_files:\n",
    "    # print(i)\n",
    "    # break\n",
    "    f = open(i, 'r')\n",
    "    text = f.read().strip()\n",
    "    new_row = [i.replace('.txt',''),text]\n",
    "    rows.append(new_row)\n",
    "    f.close()"
   ]
  },
  {
   "cell_type": "code",
   "execution_count": null,
   "id": "e07c4d24-a703-4fcc-b174-eb0ba37bb7f4",
   "metadata": {},
   "outputs": [],
   "source": [
    "rt = pd.DataFrame(rows, columns=['ID', 'Text'])"
   ]
  },
  {
   "cell_type": "code",
   "execution_count": null,
   "id": "12b97aaa-de76-40bc-b9ea-b7127e72281c",
   "metadata": {},
   "outputs": [],
   "source": [
    "p = re.compile(r'[^\\w\\s]+')\n",
    "\n",
    "for i in rt[['Text']]:\n",
    "    rt[i] = rt[i].astype(str)\n",
    "    rt[i] = rt[i].str.lower()\n",
    "    rt[i] = [p.sub('', x) for x in rt[i].tolist()]"
   ]
  },
  {
   "cell_type": "code",
   "execution_count": null,
   "id": "60404384-3d90-4c67-ba26-d2cbab2601be",
   "metadata": {},
   "outputs": [
    {
     "data": {
      "text/html": [
       "<div>\n",
       "<style scoped>\n",
       "    .dataframe tbody tr th:only-of-type {\n",
       "        vertical-align: middle;\n",
       "    }\n",
       "\n",
       "    .dataframe tbody tr th {\n",
       "        vertical-align: top;\n",
       "    }\n",
       "\n",
       "    .dataframe thead th {\n",
       "        text-align: right;\n",
       "    }\n",
       "</style>\n",
       "<table border=\"1\" class=\"dataframe\">\n",
       "  <thead>\n",
       "    <tr style=\"text-align: right;\">\n",
       "      <th></th>\n",
       "      <th>ID</th>\n",
       "      <th>Text</th>\n",
       "    </tr>\n",
       "  </thead>\n",
       "  <tbody>\n",
       "    <tr>\n",
       "      <th>0</th>\n",
       "      <td>28</td>\n",
       "      <td>the text youve provided appears to refer to a ...</td>\n",
       "    </tr>\n",
       "    <tr>\n",
       "      <th>1</th>\n",
       "      <td>21</td>\n",
       "      <td>based on the information provided it seems to ...</td>\n",
       "    </tr>\n",
       "    <tr>\n",
       "      <th>2</th>\n",
       "      <td>32</td>\n",
       "      <td>from the description provided we can attempt t...</td>\n",
       "    </tr>\n",
       "    <tr>\n",
       "      <th>3</th>\n",
       "      <td>15</td>\n",
       "      <td>to create a json form in darwin core format we...</td>\n",
       "    </tr>\n",
       "    <tr>\n",
       "      <th>4</th>\n",
       "      <td>25</td>\n",
       "      <td>to provide the relevant darwin core informatio...</td>\n",
       "    </tr>\n",
       "  </tbody>\n",
       "</table>\n",
       "</div>"
      ],
      "text/plain": [
       "   ID                                               Text\n",
       "0  28  the text youve provided appears to refer to a ...\n",
       "1  21  based on the information provided it seems to ...\n",
       "2  32  from the description provided we can attempt t...\n",
       "3  15  to create a json form in darwin core format we...\n",
       "4  25  to provide the relevant darwin core informatio..."
      ]
     },
     "execution_count": null,
     "metadata": {},
     "output_type": "execute_result"
    }
   ],
   "source": [
    "rt.head()"
   ]
  },
  {
   "cell_type": "code",
   "execution_count": null,
   "id": "385d02de-cb5e-4811-8ff0-c6e5a829a94c",
   "metadata": {},
   "outputs": [
    {
     "data": {
      "text/html": [
       "<div>\n",
       "<style scoped>\n",
       "    .dataframe tbody tr th:only-of-type {\n",
       "        vertical-align: middle;\n",
       "    }\n",
       "\n",
       "    .dataframe tbody tr th {\n",
       "        vertical-align: top;\n",
       "    }\n",
       "\n",
       "    .dataframe thead th {\n",
       "        text-align: right;\n",
       "    }\n",
       "</style>\n",
       "<table border=\"1\" class=\"dataframe\">\n",
       "  <thead>\n",
       "    <tr style=\"text-align: right;\">\n",
       "      <th></th>\n",
       "      <th>ID</th>\n",
       "      <th>Scientific Name</th>\n",
       "      <th>Chinese Name</th>\n",
       "      <th>Identified By</th>\n",
       "      <th>Identification Date</th>\n",
       "      <th>Collector</th>\n",
       "      <th>Collector's No</th>\n",
       "      <th>Collection Date</th>\n",
       "      <th>Locality</th>\n",
       "      <th>Elevation</th>\n",
       "      <th>Habitat</th>\n",
       "      <th>Reproductive Condition</th>\n",
       "    </tr>\n",
       "  </thead>\n",
       "  <tbody>\n",
       "    <tr>\n",
       "      <th>0</th>\n",
       "      <td>1</td>\n",
       "      <td>callicarpa giraldii hesse ex rehder</td>\n",
       "      <td>老鸦糊</td>\n",
       "      <td>林祁</td>\n",
       "      <td>20170702</td>\n",
       "      <td>陈耀东, 马欣堂, 杜玉芬, 班勤</td>\n",
       "      <td>5008</td>\n",
       "      <td>19900707</td>\n",
       "      <td>中国 安徽省</td>\n",
       "      <td>370</td>\n",
       "      <td>山坡林中</td>\n",
       "      <td>有花有果</td>\n",
       "    </tr>\n",
       "    <tr>\n",
       "      <th>1</th>\n",
       "      <td>2</td>\n",
       "      <td>arisaema erubescens schott</td>\n",
       "      <td>一把伞南星</td>\n",
       "      <td>马政旭</td>\n",
       "      <td>NaN</td>\n",
       "      <td>NaN</td>\n",
       "      <td>467</td>\n",
       "      <td>19710728</td>\n",
       "      <td>中国 河北省</td>\n",
       "      <td>NaN</td>\n",
       "      <td>山沟林下</td>\n",
       "      <td>有花有果</td>\n",
       "    </tr>\n",
       "    <tr>\n",
       "      <th>2</th>\n",
       "      <td>3</td>\n",
       "      <td>arisaema heterophyllum blume</td>\n",
       "      <td>天南星</td>\n",
       "      <td>林祁</td>\n",
       "      <td>20170702</td>\n",
       "      <td>NaN</td>\n",
       "      <td>20086</td>\n",
       "      <td>19900512</td>\n",
       "      <td>中国 贵州省</td>\n",
       "      <td>790</td>\n",
       "      <td>杂木林下</td>\n",
       "      <td>有花有果</td>\n",
       "    </tr>\n",
       "    <tr>\n",
       "      <th>3</th>\n",
       "      <td>4</td>\n",
       "      <td>saurauia tristyla dc.</td>\n",
       "      <td>水东哥</td>\n",
       "      <td>林祁</td>\n",
       "      <td>20170702</td>\n",
       "      <td>云南二队</td>\n",
       "      <td>151</td>\n",
       "      <td>19670421</td>\n",
       "      <td>中国 云南省</td>\n",
       "      <td>800</td>\n",
       "      <td>山坡丛林</td>\n",
       "      <td>有花有果</td>\n",
       "    </tr>\n",
       "    <tr>\n",
       "      <th>4</th>\n",
       "      <td>5</td>\n",
       "      <td>juncus linn</td>\n",
       "      <td>灯心草属</td>\n",
       "      <td>林祁</td>\n",
       "      <td>20170702</td>\n",
       "      <td>榆东组</td>\n",
       "      <td>5</td>\n",
       "      <td>19680714</td>\n",
       "      <td>中国 陕西省</td>\n",
       "      <td>NaN</td>\n",
       "      <td>NaN</td>\n",
       "      <td>有花无果</td>\n",
       "    </tr>\n",
       "  </tbody>\n",
       "</table>\n",
       "</div>"
      ],
      "text/plain": [
       "   ID                      Scientific Name Chinese Name Identified By  \\\n",
       "0   1  callicarpa giraldii hesse ex rehder          老鸦糊            林祁   \n",
       "1   2           arisaema erubescens schott        一把伞南星           马政旭   \n",
       "2   3         arisaema heterophyllum blume          天南星            林祁   \n",
       "3   4                saurauia tristyla dc.          水东哥            林祁   \n",
       "4   5                          juncus linn         灯心草属            林祁   \n",
       "\n",
       "  Identification Date           Collector Collector's No  Collection Date  \\\n",
       "0            20170702   陈耀东, 马欣堂, 杜玉芬, 班勤           5008         19900707   \n",
       "1                 NaN                 NaN            467         19710728   \n",
       "2            20170702                 NaN          20086         19900512   \n",
       "3            20170702                云南二队            151         19670421   \n",
       "4            20170702                 榆东组              5         19680714   \n",
       "\n",
       "  Locality Elevation Habitat Reproductive Condition  \n",
       "0   中国 安徽省       370    山坡林中                   有花有果  \n",
       "1   中国 河北省       NaN    山沟林下                   有花有果  \n",
       "2   中国 贵州省       790    杂木林下                   有花有果  \n",
       "3   中国 云南省       800    山坡丛林                   有花有果  \n",
       "4   中国 陕西省       NaN     NaN                   有花无果  "
      ]
     },
     "execution_count": null,
     "metadata": {},
     "output_type": "execute_result"
    }
   ],
   "source": [
    "gt.head()"
   ]
  },
  {
   "cell_type": "code",
   "execution_count": null,
   "id": "a8e1dcec-42ef-49f9-9f7c-64659bdfd18a",
   "metadata": {},
   "outputs": [
    {
     "data": {
      "text/plain": [
       "True"
      ]
     },
     "execution_count": null,
     "metadata": {},
     "output_type": "execute_result"
    }
   ],
   "source": [
    "gt.loc[3]['Identified By'] == gt.loc[4]['Identified By']"
   ]
  },
  {
   "cell_type": "code",
   "execution_count": null,
   "id": "963b99cb-fc86-4a62-a366-37eb98ea1ab5",
   "metadata": {},
   "outputs": [],
   "source": [
    "gt['Scientific Name'] = gt['Scientific Name'].str.lower()"
   ]
  },
  {
   "cell_type": "code",
   "execution_count": null,
   "id": "a3311135-1a3e-42ec-afdb-ce5fdede5786",
   "metadata": {},
   "outputs": [],
   "source": [
    "scores = []\n",
    "\n",
    "for index, row in gt.iterrows():\n",
    "    c=0.0\n",
    "    row1 = list(row.values)\n",
    "    d=0\n",
    "    for word in row1:\n",
    "        for w in str(word).split(\" \"):\n",
    "            d+=1\n",
    "            # print(w, rt.loc[rt['ID']==str(row1[0]), 'Text'].item())\n",
    "            if str(w) in rt.loc[rt['ID']==str(row1[0]), 'Text'].item():\n",
    "                # print(w)\n",
    "                c+=1.0\n",
    "    scores.append(c/d)        "
   ]
  },
  {
   "cell_type": "code",
   "execution_count": null,
   "id": "dd8ce0b8-168d-4fc8-9d37-8d9a33718406",
   "metadata": {},
   "outputs": [
    {
     "name": "stdout",
     "output_type": "stream",
     "text": [
      "[0.14285714285714285, 0.0, 0.0, 0.13333333333333333, 0.0, 0.13333333333333333, 0.06666666666666667, 0.047619047619047616, 0.1875, 0.0, 0.058823529411764705, 0.0, 0.06666666666666667, 0.06666666666666667, 0.0, 0.0, 0.0, 0.06666666666666667, 0.0, 0.06666666666666667, 0.0, 0.07142857142857142, 0.0, 0.0, 0.0, 0.0625, 0.13043478260869565, 0.058823529411764705, 0.0, 0.06666666666666667, 0.06666666666666667, 0.125, 0.0, 0.10526315789473684, 0.0625, 0.0, 0.06666666666666667]\n"
     ]
    }
   ],
   "source": [
    "print(scores)"
   ]
  },
  {
   "cell_type": "code",
   "execution_count": null,
   "id": "625c9c0f-5aab-46da-8645-6d06c1a95fe2",
   "metadata": {},
   "outputs": [
    {
     "data": {
      "text/plain": [
       "37"
      ]
     },
     "execution_count": null,
     "metadata": {},
     "output_type": "execute_result"
    }
   ],
   "source": [
    "len(scores)"
   ]
  },
  {
   "cell_type": "code",
   "execution_count": null,
   "id": "eabbe4bf-53d7-4291-b7a2-109824a48bce",
   "metadata": {},
   "outputs": [
    {
     "name": "stdout",
     "output_type": "stream",
     "text": [
      "0.05007431787112766\n"
     ]
    }
   ],
   "source": [
    "combined_score = sum(scores)/37\n",
    "\n",
    "print(combined_score)"
   ]
  },
  {
   "cell_type": "markdown",
   "id": "ebc3bd33-0946-4ea3-88a8-0b3f8d201387",
   "metadata": {},
   "source": [
    "## Collector Metrics\n",
    "\n",
    "### 1. Accuracy"
   ]
  },
  {
   "cell_type": "code",
   "execution_count": null,
   "id": "d7008fc8-d4c2-454a-a54d-4b3fb6a52ce2",
   "metadata": {},
   "outputs": [],
   "source": [
    "new_df = new_df.fillna(\"\")"
   ]
  },
  {
   "cell_type": "code",
   "execution_count": null,
   "id": "8e86fcbe-e549-4f3f-991f-0fa2221e175d",
   "metadata": {},
   "outputs": [],
   "source": [
    "#Approach 1 - count as 1 only if ground truth label is present as is in extracted label\n",
    "c=0\n",
    "for index, row in new_df.iterrows():\n",
    "    if row['Collector'].lower() in row['rCollector'].lower():\n",
    "        c+=1"
   ]
  },
  {
   "cell_type": "code",
   "execution_count": null,
   "id": "113438b9-1e23-43ec-af52-d6b5984e4758",
   "metadata": {},
   "outputs": [
    {
     "name": "stdout",
     "output_type": "stream",
     "text": [
      "Accuracy obtained : 10.81081081081081%\n"
     ]
    }
   ],
   "source": [
    "acc = c/len(new_df)*100\n",
    "print(f\"Accuracy obtained : {acc}%\")"
   ]
  },
  {
   "cell_type": "code",
   "execution_count": null,
   "id": "74f0ccd3-efac-4157-a9d8-6bbd46047fe3",
   "metadata": {},
   "outputs": [],
   "source": [
    "col_acc = acc"
   ]
  },
  {
   "cell_type": "code",
   "execution_count": null,
   "id": "d29679b3-fd00-4f08-8de8-8074f0a36fd7",
   "metadata": {},
   "outputs": [],
   "source": [
    "# Approach 2 : count as 1 if any word in ground truth label is present in extracted label\n",
    "\n",
    "c=0\n",
    "for index, row in new_df.iterrows():\n",
    "    if any(x in row['rCollector'].lower() for x in row['Collector'].lower().split()):\n",
    "        print(row['Collector'].lower(), row['rCollector'].lower())\n",
    "        c+=1"
   ]
  },
  {
   "cell_type": "code",
   "execution_count": null,
   "id": "cc268f1c-5bb6-48f0-8cc2-fbe5454909c1",
   "metadata": {},
   "outputs": [
    {
     "name": "stdout",
     "output_type": "stream",
     "text": [
      "Accuracy obtained : 0.0%\n"
     ]
    }
   ],
   "source": [
    "acc = c/len(new_df)*100\n",
    "print(f\"Accuracy obtained : {acc}%\")"
   ]
  },
  {
   "cell_type": "code",
   "execution_count": null,
   "id": "b530c19b-8910-4fde-b4e2-b6c804c4bc8c",
   "metadata": {},
   "outputs": [],
   "source": [
    "# Approach 3 : count as 1 if all words in ground truth label is present in extracted label (need not be in order)\n",
    "\n",
    "c=0\n",
    "for index, row in new_df.iterrows():\n",
    "    if(set(row['Collector'].lower().split()).issubset(set(row['rCollector'].lower().split()))):\n",
    "        c+=1"
   ]
  },
  {
   "cell_type": "code",
   "execution_count": null,
   "id": "64bad523-3ea9-4e4d-9b0c-05a8245484b2",
   "metadata": {},
   "outputs": [
    {
     "name": "stdout",
     "output_type": "stream",
     "text": [
      "Accuracy obtained : 10.81081081081081%\n"
     ]
    }
   ],
   "source": [
    "acc = c/len(new_df)*100\n",
    "print(f\"Accuracy obtained : {acc}%\")"
   ]
  },
  {
   "cell_type": "markdown",
   "id": "96d766e4-fb8a-437a-b480-ee825e979397",
   "metadata": {},
   "source": [
    "## Geography Metrics\n",
    "\n",
    "### 1. Accuracy"
   ]
  },
  {
   "cell_type": "code",
   "execution_count": null,
   "id": "235bc35d-6fe1-4aca-861d-a6785dcf7afd",
   "metadata": {},
   "outputs": [],
   "source": [
    "#Approach 1 - count as 1 only if ground truth label is present as is in extracted label\n",
    "c=0\n",
    "for index, row in new_df.iterrows():\n",
    "    \n",
    "    if row['Locality'].lower() in row['rGeography'].lower():\n",
    "        # print(row['Geography'].lower(), row['rGeography'].lower())\n",
    "        c+=1"
   ]
  },
  {
   "cell_type": "code",
   "execution_count": null,
   "id": "91c24834-697f-49eb-a722-05326904e8a6",
   "metadata": {},
   "outputs": [
    {
     "name": "stdout",
     "output_type": "stream",
     "text": [
      "Accuracy obtained : 0.0%\n"
     ]
    }
   ],
   "source": [
    "acc = c/len(new_df)*100\n",
    "print(f\"Accuracy obtained : {acc}%\")"
   ]
  },
  {
   "cell_type": "code",
   "execution_count": null,
   "id": "063adad1-14ba-40a3-b697-d054a486d270",
   "metadata": {},
   "outputs": [],
   "source": [
    "# Approach 2 : count as 1 if any word in ground truth label is present in extracted label\n",
    "\n",
    "c=0\n",
    "for index, row in new_df.iterrows():\n",
    "    if any(x in row['rGeography'].lower() for x in row['Locality'].lower().split()):\n",
    "        # print(row['Geography'], row['rGeography'])\n",
    "        c+=1"
   ]
  },
  {
   "cell_type": "code",
   "execution_count": null,
   "id": "bb64cfd9-7b3e-4355-af80-86a73e71acb3",
   "metadata": {},
   "outputs": [
    {
     "name": "stdout",
     "output_type": "stream",
     "text": [
      "Accuracy obtained : 5.405405405405405%\n"
     ]
    }
   ],
   "source": [
    "acc = c/len(new_df)*100\n",
    "print(f\"Accuracy obtained : {acc}%\")"
   ]
  },
  {
   "cell_type": "code",
   "execution_count": null,
   "id": "2b591715-9f06-4c63-bd2c-388d35602811",
   "metadata": {},
   "outputs": [],
   "source": [
    "geo_acc = acc"
   ]
  },
  {
   "cell_type": "code",
   "execution_count": null,
   "id": "3e7a624e-137f-4651-9b76-143bda1b5f6c",
   "metadata": {},
   "outputs": [],
   "source": [
    "# Approach 3 : count as 1 if all words in ground truth label is present in extracted label (need not be in order)\n",
    "\n",
    "c=0\n",
    "for index, row in new_df.iterrows():\n",
    "    if(set(row['Locality'].lower().split()).issubset(set(row['rGeography'].lower().split()))):\n",
    "        c+=1"
   ]
  },
  {
   "cell_type": "code",
   "execution_count": null,
   "id": "a4447488-8c08-4484-808b-f310285d3410",
   "metadata": {},
   "outputs": [
    {
     "name": "stdout",
     "output_type": "stream",
     "text": [
      "Accuracy obtained : 0.0%\n"
     ]
    }
   ],
   "source": [
    "acc = c/len(new_df)*100\n",
    "print(f\"Accuracy obtained : {acc}%\")"
   ]
  },
  {
   "cell_type": "markdown",
   "id": "ebc59345-0f84-4fc8-92ce-72a0e3f00759",
   "metadata": {},
   "source": [
    "## Visualizations"
   ]
  },
  {
   "cell_type": "code",
   "execution_count": null,
   "id": "13fc50bb-d181-42a5-8e55-0e83c31efee6",
   "metadata": {},
   "outputs": [
    {
     "data": {
      "image/png": "[encoded data removed]",
      "text/plain": [
       "<Figure size 640x480 with 1 Axes>"
      ]
     },
     "metadata": {},
     "output_type": "display_data"
    }
   ],
   "source": [
    "df_scores = pd.DataFrame({\n",
    "        'Labels Extracted': ['Geography', 'Taxon', 'Collector'],\n",
    "        'Accuracy (in %)': [geo_acc, tax_acc, col_acc]\n",
    "})\n",
    "\n",
    "df_scores = df_scores.sort_values(['Accuracy (in %)'], ascending=False).reset_index(drop=True)\n",
    "# who v/s fare barplot \n",
    "palette=[\"#2ec4b6\",\"#ffbf69\",\"#fb6f92\"]\n",
    "ax = sns.barplot(x = 'Labels Extracted',\n",
    "            y = 'Accuracy (in %)',\n",
    "           data = df_scores,\n",
    "           hue = 'Labels Extracted',\n",
    "           palette=palette)\n",
    "\n",
    "for i in ax.containers:\n",
    "    ax.bar_label(i,)\n",
    "# Show the plot\n",
    "plt.show()"
   ]
  },
  {
   "cell_type": "markdown",
   "id": "6fef43ce-fd70-4a8d-a432-580d00ea04b6",
   "metadata": {},
   "source": [
    "Note : We believe that the baseline for Chinese samples gives us unsatisfactory results since the Azure and GPT models might not be as trained to detect chinese characters as well as the others. We plan on employing some fine-tuning measures if possible in the future and delving into better, more specific evaluation metrics for Chinese character comparisons."
   ]
  }
 ],
 "metadata": {
  "kernelspec": {
   "display_name": "python3",
   "language": "python",
   "name": "python3"
  }
 },
 "nbformat": 4,
 "nbformat_minor": 5
}
