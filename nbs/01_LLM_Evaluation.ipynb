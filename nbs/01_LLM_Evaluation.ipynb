{
 "cells": [
  {
   "cell_type": "code",
   "execution_count": null,
   "id": "d8b43a6a-d877-4e02-96f1-138ac9a63fab",
   "metadata": {},
   "outputs": [],
   "source": [
    "#| default_exp LLM_Evaluation"
   ]
  },
  {
   "cell_type": "markdown",
   "id": "1c40b010-eb49-4802-9d1e-699dafa2708f",
   "metadata": {},
   "source": [
    "### Procedure for Evaluation : English Samples - Smriti\n",
    "\n",
    "* Open taxon, collector, geography gt-labels and the gpt-resized-results \n",
    "* Check if gpt-file has attribute of scientificname, collected by / recorded by, country/locality\n",
    "* Make count of all comparable files (some don't have valid responses - ignore these)\n",
    "* Check match of the gt with produced labels (if produced label in gt) or perhaps some better match method (similarity measures)\n",
    "* Count number of matches with some threshold value ->80% match \n",
    "* Measure of accuracy "
   ]
  },
  {
   "cell_type": "code",
   "execution_count": null,
   "id": "4798a0bc-c049-4d90-8d97-6b685bb18b78",
   "metadata": {},
   "outputs": [],
   "source": [
    "#| hide\n",
    "#installations necessary\n",
    "# pip install taxonerd\n",
    "# pip install https://github.com/nleguillarme/taxonerd/releases/download/v1.5.0/en_core_eco_biobert-1.0.2.tar.gz\n",
    "# pip install tqdm\n",
    "# pip install seaborn"
   ]
  },
  {
   "cell_type": "code",
   "execution_count": null,
   "id": "93c2e2a2",
   "metadata": {},
   "outputs": [],
   "source": [
    "! pip3 install https://github.com/nleguillarme/taxonerd/releases/download/v1.5.0/en_core_eco_biobert-1.0.2.tar.gz"
   ]
  },
  {
   "cell_type": "code",
   "execution_count": null,
   "id": "4c645401-9c7a-4bba-9250-3252200f1860",
   "metadata": {},
   "outputs": [],
   "source": [
    "#| hide\n",
    "\n",
    "import os\n",
    "import pandas as pd\n",
    "import numpy as np\n",
    "import re\n",
    "from taxonerd import TaxoNERD\n",
    "from tqdm import tqdm\n",
    "import seaborn as sns\n",
    "import matplotlib.pyplot as plt"
   ]
  },
  {
   "cell_type": "markdown",
   "id": "3cf7c0f8-23c2-4fe9-b4ab-794c1aec4a44",
   "metadata": {},
   "source": [
    "### Convert ground truth labels into Dataframe for easy access"
   ]
  },
  {
   "cell_type": "code",
   "execution_count": null,
   "id": "5f82bf9f-c2ce-4a24-b113-e129ec293096",
   "metadata": {},
   "outputs": [
    {
     "name": "stdout",
     "output_type": "stream",
     "text": [
      "/projectnb/sparkgrp/ml-herbarium-grp/fall2023\n"
     ]
    }
   ],
   "source": [
    "gt = pd.DataFrame(columns=['ID', 'Taxon', 'Collector', 'Geography'])\n",
    "\n",
    "print(os.getcwd())\n",
    "# os.chdir(\"gt_labels/\")\n",
    "os.chdir(\"data/gt-labels/\")\n",
    "\n",
    "with open(\"taxon_gt.txt\", 'r') as tf, open(\"collector_gt.txt\", 'r') as cf, open(\"geography_gt.txt\", 'r') as gf:\n",
    "    t = []\n",
    "    c = []\n",
    "    g = []\n",
    "    id = []\n",
    "    for line in tf:\n",
    "        id.append(line.rstrip('\\n').split(\":\")[0])\n",
    "        t.append(line.rstrip('\\n').split(\":\")[1].lstrip())\n",
    "\n",
    "    for line in cf:\n",
    "        c.append(line.rstrip('\\n').split(\":\")[1].lstrip())\n",
    "\n",
    "    for line in gf:\n",
    "        g.append(line.rstrip('\\n').split(\":\")[1].lstrip())"
   ]
  },
  {
   "cell_type": "code",
   "execution_count": null,
   "id": "79d661b4-da95-436c-ae9e-c810bed03ba3",
   "metadata": {},
   "outputs": [],
   "source": [
    "gt['ID'] = id\n",
    "gt['Taxon'] = t\n",
    "gt['Collector'] = c\n",
    "gt['Geography'] = g"
   ]
  },
  {
   "cell_type": "code",
   "execution_count": null,
   "id": "6cf332f3-3c88-40b0-8608-432b8ab1292e",
   "metadata": {},
   "outputs": [
    {
     "data": {
      "text/html": [
       "<div>\n",
       "<style scoped>\n",
       "    .dataframe tbody tr th:only-of-type {\n",
       "        vertical-align: middle;\n",
       "    }\n",
       "\n",
       "    .dataframe tbody tr th {\n",
       "        vertical-align: top;\n",
       "    }\n",
       "\n",
       "    .dataframe thead th {\n",
       "        text-align: right;\n",
       "    }\n",
       "</style>\n",
       "<table border=\"1\" class=\"dataframe\">\n",
       "  <thead>\n",
       "    <tr style=\"text-align: right;\">\n",
       "      <th></th>\n",
       "      <th>ID</th>\n",
       "      <th>Taxon</th>\n",
       "      <th>Collector</th>\n",
       "      <th>Geography</th>\n",
       "    </tr>\n",
       "  </thead>\n",
       "  <tbody>\n",
       "    <tr>\n",
       "      <th>0</th>\n",
       "      <td>1697659851</td>\n",
       "      <td>Euphrasia officinalis</td>\n",
       "      <td>Nazarov M. I.</td>\n",
       "      <td>Russian Federation</td>\n",
       "    </tr>\n",
       "    <tr>\n",
       "      <th>1</th>\n",
       "      <td>2573258025</td>\n",
       "      <td>Bryoerythrophyllum recurvirostrum</td>\n",
       "      <td>M. Morgan [?]</td>\n",
       "      <td>United States of America</td>\n",
       "    </tr>\n",
       "    <tr>\n",
       "      <th>2</th>\n",
       "      <td>2597666444</td>\n",
       "      <td>Carduus tenuiflorus</td>\n",
       "      <td>Lortet Clémence</td>\n",
       "      <td>France</td>\n",
       "    </tr>\n",
       "    <tr>\n",
       "      <th>3</th>\n",
       "      <td>1931288980</td>\n",
       "      <td>Agoseris parviflora</td>\n",
       "      <td>H. H. Rusby</td>\n",
       "      <td>United States of America</td>\n",
       "    </tr>\n",
       "    <tr>\n",
       "      <th>4</th>\n",
       "      <td>1930241969</td>\n",
       "      <td>Spiraea canescens</td>\n",
       "      <td>R. Pinkus</td>\n",
       "      <td>United States of America</td>\n",
       "    </tr>\n",
       "  </tbody>\n",
       "</table>\n",
       "</div>"
      ],
      "text/plain": [
       "           ID                              Taxon        Collector  \\\n",
       "0  1697659851              Euphrasia officinalis    Nazarov M. I.   \n",
       "1  2573258025  Bryoerythrophyllum recurvirostrum    M. Morgan [?]   \n",
       "2  2597666444                Carduus tenuiflorus  Lortet Clémence   \n",
       "3  1931288980                Agoseris parviflora      H. H. Rusby   \n",
       "4  1930241969                  Spiraea canescens        R. Pinkus   \n",
       "\n",
       "                  Geography  \n",
       "0        Russian Federation  \n",
       "1  United States of America  \n",
       "2                    France  \n",
       "3  United States of America  \n",
       "4  United States of America  "
      ]
     },
     "execution_count": null,
     "metadata": {},
     "output_type": "execute_result"
    }
   ],
   "source": [
    "gt.head()"
   ]
  },
  {
   "cell_type": "code",
   "execution_count": null,
   "id": "c62652a7-8415-44ed-8c43-74fdf72f247c",
   "metadata": {},
   "outputs": [],
   "source": [
    "gt = gt.dropna(axis=1)"
   ]
  },
  {
   "cell_type": "code",
   "execution_count": null,
   "id": "fa1383b5-5b6d-4842-b801-e05ff1ceaac6",
   "metadata": {},
   "outputs": [
    {
     "data": {
      "text/html": [
       "<div>\n",
       "<style scoped>\n",
       "    .dataframe tbody tr th:only-of-type {\n",
       "        vertical-align: middle;\n",
       "    }\n",
       "\n",
       "    .dataframe tbody tr th {\n",
       "        vertical-align: top;\n",
       "    }\n",
       "\n",
       "    .dataframe thead th {\n",
       "        text-align: right;\n",
       "    }\n",
       "</style>\n",
       "<table border=\"1\" class=\"dataframe\">\n",
       "  <thead>\n",
       "    <tr style=\"text-align: right;\">\n",
       "      <th></th>\n",
       "      <th>ID</th>\n",
       "      <th>Taxon</th>\n",
       "      <th>Collector</th>\n",
       "      <th>Geography</th>\n",
       "    </tr>\n",
       "  </thead>\n",
       "  <tbody>\n",
       "  </tbody>\n",
       "</table>\n",
       "</div>"
      ],
      "text/plain": [
       "Empty DataFrame\n",
       "Columns: [ID, Taxon, Collector, Geography]\n",
       "Index: []"
      ]
     },
     "execution_count": null,
     "metadata": {},
     "output_type": "execute_result"
    }
   ],
   "source": [
    "#Checking for duplicates\n",
    "ids = gt[\"ID\"]\n",
    "gt[ids.isin(ids[ids.duplicated()])].sort_values(\"ID\")"
   ]
  },
  {
   "cell_type": "markdown",
   "id": "2b8fe9b2-bdf6-4879-a9ae-cbb4cd06a0a7",
   "metadata": {},
   "source": [
    "### Extract results from Azure model into pandas dataframe"
   ]
  },
  {
   "cell_type": "code",
   "execution_count": null,
   "id": "6839638d-2454-4314-871e-a2a8e170e352",
   "metadata": {},
   "outputs": [
    {
     "name": "stdout",
     "output_type": "stream",
     "text": [
      "/projectnb/sparkgrp/ml-herbarium-grp/ml-herbarium-data/scraped-data/drago_testdata/gt_labels\n",
      "True\n"
     ]
    }
   ],
   "source": [
    "#Load the azure vision results\n",
    "print(os.getcwd())\n",
    "os.chdir('../AzureVisionResults/')\n",
    "\n",
    "folder_path = os.getcwd()\n",
    "result_files = [f for f in os.listdir(folder_path) if os.path.isfile(os.path.join(folder_path, f)) and f.endswith(('txt'))]\n",
    "\n",
    "#checking for duplicate files\n",
    "print(len(result_files)==len(set(result_files)))\n",
    "rows = []\n",
    "for i in result_files:\n",
    "    # print(i)\n",
    "    # break\n",
    "    f = open(i, 'r')\n",
    "    lines = f.readlines()\n",
    "    new_row=[]\n",
    "    taxon_res=\"\"\n",
    "    geo_res=\"\"\n",
    "    col_res=\"\"\n",
    "    \n",
    "    for line in lines:\n",
    "        if \"scientificname\\\":\" in line.lower():\n",
    "            taxon_res=line.strip().split(\":\")[1].replace(\",\",\"\").replace('\"', '').lstrip()\n",
    "        if \"country\\\":\" in line.lower():\n",
    "            geo_res=line.strip().split(\":\")[1].replace(\",\",\"\").replace('\"', '').lstrip()\n",
    "        if \"collectedby\\\":\" in line.lower() or \"recordedby\\\":\" in line.lower() or \"collector\\\":\" in line.lower():\n",
    "            # print(line.strip().split(\":\"))\n",
    "            col_res=line.strip().split(\":\")[1].replace(\",\",\"\").replace('\"', '').lstrip()\n",
    "            \n",
    "    new_row = [i.replace('.txt',''),taxon_res,col_res,geo_res]\n",
    "    rows.append(new_row)\n",
    "    f.close()\n"
   ]
  },
  {
   "cell_type": "code",
   "execution_count": null,
   "id": "84565661-7a42-41ab-b760-88c82ce18579",
   "metadata": {},
   "outputs": [],
   "source": [
    "rt = pd.DataFrame(rows, columns=['ID', 'rTaxon', 'rCollector', 'rGeography'])"
   ]
  },
  {
   "cell_type": "code",
   "execution_count": null,
   "id": "860c64a6-5882-4f4a-8d40-830aac276097",
   "metadata": {},
   "outputs": [
    {
     "data": {
      "text/plain": [
       "False"
      ]
     },
     "execution_count": null,
     "metadata": {},
     "output_type": "execute_result"
    }
   ],
   "source": [
    "rt.isnull().values.any()"
   ]
  },
  {
   "cell_type": "code",
   "execution_count": null,
   "id": "fe990b07-d57b-49cf-be51-c62147dd646f",
   "metadata": {},
   "outputs": [
    {
     "data": {
      "text/plain": [
       "(array([], dtype=int64), array([], dtype=int64))"
      ]
     },
     "execution_count": null,
     "metadata": {},
     "output_type": "execute_result"
    }
   ],
   "source": [
    "np.where(pd.isnull(rt))"
   ]
  },
  {
   "cell_type": "code",
   "execution_count": null,
   "id": "b5abb290-ef97-486c-aea7-51b4b22dc7dc",
   "metadata": {},
   "outputs": [
    {
     "data": {
      "text/plain": [
       "(array([ 37,  53,  54,  55,  64,  71,  72,  73,  94, 110, 122, 137, 148,\n",
       "        153, 181, 186]),\n",
       " array([2, 2, 2, 2, 2, 1, 2, 1, 2, 2, 2, 2, 2, 2, 2, 2]))"
      ]
     },
     "execution_count": null,
     "metadata": {},
     "output_type": "execute_result"
    }
   ],
   "source": [
    "np.where(rt.map(lambda x: x == ''))"
   ]
  },
  {
   "cell_type": "markdown",
   "id": "9868bfe6-6c4d-49cd-b348-3859b83c255c",
   "metadata": {},
   "source": [
    "### Noting down empty values"
   ]
  },
  {
   "cell_type": "code",
   "execution_count": null,
   "id": "0f2d6b3e-4bc4-4ade-8d74-3ed161c90743",
   "metadata": {},
   "outputs": [
    {
     "data": {
      "text/plain": [
       "71    1999143240\n",
       "73    1455174725\n",
       "Name: ID, dtype: object"
      ]
     },
     "execution_count": null,
     "metadata": {},
     "output_type": "execute_result"
    }
   ],
   "source": [
    "rt[rt['rTaxon'] == '']['ID']"
   ]
  },
  {
   "cell_type": "code",
   "execution_count": null,
   "id": "6ee16168-597f-4a29-94e9-7d3f5ff2a093",
   "metadata": {},
   "outputs": [
    {
     "data": {
      "text/plain": [
       "37     1318373170\n",
       "53     2848503382\n",
       "54     2625898343\n",
       "55     3005670412\n",
       "64     3341239321\n",
       "72     2236116492\n",
       "94     1999154508\n",
       "110    2625876902\n",
       "122    2848440467\n",
       "137    3459889344\n",
       "148    2900461439\n",
       "153    3092956655\n",
       "181    1928370989\n",
       "186    1702827727\n",
       "Name: ID, dtype: object"
      ]
     },
     "execution_count": null,
     "metadata": {},
     "output_type": "execute_result"
    }
   ],
   "source": [
    "rt[rt['rCollector'] == '']['ID']"
   ]
  },
  {
   "cell_type": "code",
   "execution_count": null,
   "id": "9216c99c-f8ac-4d98-99bb-c91f67e8c519",
   "metadata": {},
   "outputs": [
    {
     "data": {
      "text/plain": [
       "Series([], Name: ID, dtype: object)"
      ]
     },
     "execution_count": null,
     "metadata": {},
     "output_type": "execute_result"
    }
   ],
   "source": [
    "rt[rt['rGeography'] == '']['ID']"
   ]
  },
  {
   "cell_type": "markdown",
   "id": "5028a755-226e-4e83-84eb-aee9aeeb9fb7",
   "metadata": {},
   "source": [
    "## Comparison with Ground Truth Labels"
   ]
  },
  {
   "cell_type": "markdown",
   "id": "7f3c3067-b4f6-42de-b287-3493971b4531",
   "metadata": {},
   "source": [
    "### Creating a combined Dataframe for easy comparison between columns"
   ]
  },
  {
   "cell_type": "code",
   "execution_count": null,
   "id": "3c2bfe69-4743-43ce-94ac-d3e3376aa3c2",
   "metadata": {},
   "outputs": [],
   "source": [
    "new_df = (pd.merge(gt, rt, on='ID'))"
   ]
  },
  {
   "cell_type": "code",
   "execution_count": null,
   "id": "423ce9cd-11fb-47c8-9daa-31e4a647db3c",
   "metadata": {},
   "outputs": [
    {
     "data": {
      "text/html": [
       "<div>\n",
       "<style scoped>\n",
       "    .dataframe tbody tr th:only-of-type {\n",
       "        vertical-align: middle;\n",
       "    }\n",
       "\n",
       "    .dataframe tbody tr th {\n",
       "        vertical-align: top;\n",
       "    }\n",
       "\n",
       "    .dataframe thead th {\n",
       "        text-align: right;\n",
       "    }\n",
       "</style>\n",
       "<table border=\"1\" class=\"dataframe\">\n",
       "  <thead>\n",
       "    <tr style=\"text-align: right;\">\n",
       "      <th></th>\n",
       "      <th>ID</th>\n",
       "      <th>Taxon</th>\n",
       "      <th>Collector</th>\n",
       "      <th>Geography</th>\n",
       "      <th>rTaxon</th>\n",
       "      <th>rCollector</th>\n",
       "      <th>rGeography</th>\n",
       "    </tr>\n",
       "  </thead>\n",
       "  <tbody>\n",
       "    <tr>\n",
       "      <th>0</th>\n",
       "      <td>1931124118</td>\n",
       "      <td>Suaeda nigra</td>\n",
       "      <td>S. Watson</td>\n",
       "      <td>United States of America</td>\n",
       "      <td>Suaeda torreyana Wats.</td>\n",
       "      <td>Sereno Watson</td>\n",
       "      <td>United States</td>\n",
       "    </tr>\n",
       "    <tr>\n",
       "      <th>1</th>\n",
       "      <td>1426171668</td>\n",
       "      <td>Albizia niopoides</td>\n",
       "      <td>Jorgensen, P.</td>\n",
       "      <td>Paraguay</td>\n",
       "      <td>Withacolabium Haslevi Chvad</td>\n",
       "      <td>Prof. Pedro Jorgensen</td>\n",
       "      <td>Paraguay</td>\n",
       "    </tr>\n",
       "    <tr>\n",
       "      <th>2</th>\n",
       "      <td>2512855384</td>\n",
       "      <td>Clematis ladakhiana</td>\n",
       "      <td>W. N. Koelz</td>\n",
       "      <td>India</td>\n",
       "      <td>Clematis ladakhiana Grey-Wilson</td>\n",
       "      <td>Walter Koelz</td>\n",
       "      <td>India</td>\n",
       "    </tr>\n",
       "    <tr>\n",
       "      <th>3</th>\n",
       "      <td>1318293083</td>\n",
       "      <td>Cordia sulcata</td>\n",
       "      <td>W. L. Abbott</td>\n",
       "      <td>Dominican Republic</td>\n",
       "      <td>Verben</td>\n",
       "      <td>W. L. Abbott</td>\n",
       "      <td>Dominican Republic</td>\n",
       "    </tr>\n",
       "    <tr>\n",
       "      <th>4</th>\n",
       "      <td>3005670412</td>\n",
       "      <td>Oplismenus burmanni</td>\n",
       "      <td>C. Robinson</td>\n",
       "      <td>Indonesia</td>\n",
       "      <td>Hippogrostis amboinica</td>\n",
       "      <td></td>\n",
       "      <td>United States</td>\n",
       "    </tr>\n",
       "  </tbody>\n",
       "</table>\n",
       "</div>"
      ],
      "text/plain": [
       "           ID                Taxon      Collector                 Geography  \\\n",
       "0  1931124118         Suaeda nigra      S. Watson  United States of America   \n",
       "1  1426171668    Albizia niopoides  Jorgensen, P.                  Paraguay   \n",
       "2  2512855384  Clematis ladakhiana    W. N. Koelz                     India   \n",
       "3  1318293083       Cordia sulcata   W. L. Abbott        Dominican Republic   \n",
       "4  3005670412  Oplismenus burmanni    C. Robinson                 Indonesia   \n",
       "\n",
       "                            rTaxon             rCollector          rGeography  \n",
       "0           Suaeda torreyana Wats.          Sereno Watson       United States  \n",
       "1      Withacolabium Haslevi Chvad  Prof. Pedro Jorgensen            Paraguay  \n",
       "2  Clematis ladakhiana Grey-Wilson           Walter Koelz               India  \n",
       "3                           Verben           W. L. Abbott  Dominican Republic  \n",
       "4           Hippogrostis amboinica                              United States  "
      ]
     },
     "execution_count": null,
     "metadata": {},
     "output_type": "execute_result"
    }
   ],
   "source": [
    "new_df.head()"
   ]
  },
  {
   "cell_type": "code",
   "execution_count": null,
   "id": "0e9976fb-25d4-467e-8821-6a1c86c6b6de",
   "metadata": {},
   "outputs": [
    {
     "data": {
      "text/plain": [
       "(array([], dtype=int64), array([], dtype=int64))"
      ]
     },
     "execution_count": null,
     "metadata": {},
     "output_type": "execute_result"
    }
   ],
   "source": [
    "np.where(pd.isnull(new_df))"
   ]
  },
  {
   "cell_type": "code",
   "execution_count": null,
   "id": "e9680662-2bf0-404d-915e-413855edaf5a",
   "metadata": {},
   "outputs": [
    {
     "data": {
      "text/plain": [
       "(array([  4,  13,  15,  21,  41,  61,  76,  86,  88,  98, 142, 150, 151,\n",
       "        167, 193, 195]),\n",
       " array([5, 5, 4, 5, 5, 5, 5, 4, 5, 5, 5, 5, 5, 5, 5, 5]))"
      ]
     },
     "execution_count": null,
     "metadata": {},
     "output_type": "execute_result"
    }
   ],
   "source": [
    "np.where(new_df.map(lambda x: x == ''))"
   ]
  },
  {
   "cell_type": "code",
   "execution_count": null,
   "id": "a02a0587-8765-480e-90df-a99342583ae7",
   "metadata": {},
   "outputs": [
    {
     "data": {
      "text/plain": [
       "224"
      ]
     },
     "execution_count": null,
     "metadata": {},
     "output_type": "execute_result"
    }
   ],
   "source": [
    "len(new_df)"
   ]
  },
  {
   "cell_type": "markdown",
   "id": "c1259168-f77f-4169-b6bd-6da69e08b013",
   "metadata": {},
   "source": [
    "#### Observed variations in the word USA - so converting all variations to the standard of Ground Truth label"
   ]
  },
  {
   "cell_type": "code",
   "execution_count": null,
   "id": "2126f4c8-a3d5-4194-9547-b7eac2febcb0",
   "metadata": {},
   "outputs": [],
   "source": [
    "##Replacing all USA variations with one label\n",
    "\n",
    "# for i in new_df['rGeography']:\n",
    "#     if i==\"USA\" in i or \"United States\" in i:\n",
    "\n",
    "new_df['rGeography'] = new_df['rGeography'].apply(lambda i: \"united states of america\" if i.lower() in [\"usa\",\"united states\",\"us\"] else i)"
   ]
  },
  {
   "cell_type": "markdown",
   "id": "259ed644-a051-4615-ba3b-6c2e2af18e1a",
   "metadata": {},
   "source": [
    "### Removing punctuation and lower-casing all text as a pre-processing step"
   ]
  },
  {
   "cell_type": "code",
   "execution_count": null,
   "id": "a142e5b8-aadc-4f6d-81c2-a0a0c42016fa",
   "metadata": {},
   "outputs": [],
   "source": [
    "p = re.compile(r'[^\\w\\s]+')\n",
    "\n",
    "for i in new_df.columns:\n",
    "    if i==\"ID\":\n",
    "        continue\n",
    "    new_df[i] = new_df[i].str.lower()\n",
    "    new_df[i] = [p.sub('', x) for x in new_df[i].tolist()]"
   ]
  },
  {
   "cell_type": "code",
   "execution_count": null,
   "id": "ee5d7a96-bf23-48b7-b870-536b0d0f8b2e",
   "metadata": {},
   "outputs": [
    {
     "data": {
      "text/html": [
       "<div>\n",
       "<style scoped>\n",
       "    .dataframe tbody tr th:only-of-type {\n",
       "        vertical-align: middle;\n",
       "    }\n",
       "\n",
       "    .dataframe tbody tr th {\n",
       "        vertical-align: top;\n",
       "    }\n",
       "\n",
       "    .dataframe thead th {\n",
       "        text-align: right;\n",
       "    }\n",
       "</style>\n",
       "<table border=\"1\" class=\"dataframe\">\n",
       "  <thead>\n",
       "    <tr style=\"text-align: right;\">\n",
       "      <th></th>\n",
       "      <th>ID</th>\n",
       "      <th>Taxon</th>\n",
       "      <th>Collector</th>\n",
       "      <th>Geography</th>\n",
       "      <th>rTaxon</th>\n",
       "      <th>rCollector</th>\n",
       "      <th>rGeography</th>\n",
       "    </tr>\n",
       "  </thead>\n",
       "  <tbody>\n",
       "    <tr>\n",
       "      <th>0</th>\n",
       "      <td>1931124118</td>\n",
       "      <td>suaeda nigra</td>\n",
       "      <td>s watson</td>\n",
       "      <td>united states of america</td>\n",
       "      <td>suaeda torreyana wats</td>\n",
       "      <td>sereno watson</td>\n",
       "      <td>united states of america</td>\n",
       "    </tr>\n",
       "    <tr>\n",
       "      <th>1</th>\n",
       "      <td>1426171668</td>\n",
       "      <td>albizia niopoides</td>\n",
       "      <td>jorgensen p</td>\n",
       "      <td>paraguay</td>\n",
       "      <td>withacolabium haslevi chvad</td>\n",
       "      <td>prof pedro jorgensen</td>\n",
       "      <td>paraguay</td>\n",
       "    </tr>\n",
       "    <tr>\n",
       "      <th>2</th>\n",
       "      <td>2512855384</td>\n",
       "      <td>clematis ladakhiana</td>\n",
       "      <td>w n koelz</td>\n",
       "      <td>india</td>\n",
       "      <td>clematis ladakhiana greywilson</td>\n",
       "      <td>walter koelz</td>\n",
       "      <td>india</td>\n",
       "    </tr>\n",
       "    <tr>\n",
       "      <th>3</th>\n",
       "      <td>1318293083</td>\n",
       "      <td>cordia sulcata</td>\n",
       "      <td>w l abbott</td>\n",
       "      <td>dominican republic</td>\n",
       "      <td>verben</td>\n",
       "      <td>w l abbott</td>\n",
       "      <td>dominican republic</td>\n",
       "    </tr>\n",
       "    <tr>\n",
       "      <th>4</th>\n",
       "      <td>3005670412</td>\n",
       "      <td>oplismenus burmanni</td>\n",
       "      <td>c robinson</td>\n",
       "      <td>indonesia</td>\n",
       "      <td>hippogrostis amboinica</td>\n",
       "      <td></td>\n",
       "      <td>united states of america</td>\n",
       "    </tr>\n",
       "  </tbody>\n",
       "</table>\n",
       "</div>"
      ],
      "text/plain": [
       "           ID                Taxon    Collector                 Geography  \\\n",
       "0  1931124118         suaeda nigra     s watson  united states of america   \n",
       "1  1426171668    albizia niopoides  jorgensen p                  paraguay   \n",
       "2  2512855384  clematis ladakhiana    w n koelz                     india   \n",
       "3  1318293083       cordia sulcata   w l abbott        dominican republic   \n",
       "4  3005670412  oplismenus burmanni   c robinson                 indonesia   \n",
       "\n",
       "                           rTaxon            rCollector  \\\n",
       "0           suaeda torreyana wats         sereno watson   \n",
       "1     withacolabium haslevi chvad  prof pedro jorgensen   \n",
       "2  clematis ladakhiana greywilson          walter koelz   \n",
       "3                          verben            w l abbott   \n",
       "4          hippogrostis amboinica                         \n",
       "\n",
       "                 rGeography  \n",
       "0  united states of america  \n",
       "1                  paraguay  \n",
       "2                     india  \n",
       "3        dominican republic  \n",
       "4  united states of america  "
      ]
     },
     "execution_count": null,
     "metadata": {},
     "output_type": "execute_result"
    }
   ],
   "source": [
    "new_df.head()"
   ]
  },
  {
   "cell_type": "markdown",
   "id": "1c73cce0-6413-44c5-96df-f4884084f64e",
   "metadata": {},
   "source": [
    "Now we move to the Evaluation stage - We have analyzed Taxon, Collector and Geography (country) as a part of this semester's work individually and also compared how they do with respect to one another. Please note that the evaluation metrics used for the 3 labels may not be the same. "
   ]
  },
  {
   "cell_type": "markdown",
   "id": "e5acc560-59e8-4743-a445-1fe6c16aec46",
   "metadata": {},
   "source": [
    "## Taxon Metrics"
   ]
  },
  {
   "cell_type": "markdown",
   "id": "1ee8b0c4-84b3-4ee0-87b6-ae8e38ea8a99",
   "metadata": {},
   "source": [
    "### 1. Accuracy"
   ]
  },
  {
   "cell_type": "code",
   "execution_count": null,
   "id": "eab083af-5232-44da-a936-dd3eb2933268",
   "metadata": {},
   "outputs": [],
   "source": [
    "# Approach 1 - count as 1 only if ground truth label is present as is in extracted label\n",
    "c=0\n",
    "for index, row in new_df.iterrows():\n",
    "    if row['Taxon'].lower() in row['rTaxon'].lower():\n",
    "        c+=1"
   ]
  },
  {
   "cell_type": "code",
   "execution_count": null,
   "id": "e418c60c-750d-4f10-9294-639db295ea05",
   "metadata": {},
   "outputs": [
    {
     "name": "stdout",
     "output_type": "stream",
     "text": [
      "101\n"
     ]
    }
   ],
   "source": [
    "print(c)"
   ]
  },
  {
   "cell_type": "code",
   "execution_count": null,
   "id": "2aa6527b-7d57-425c-b732-5cb28afff52a",
   "metadata": {},
   "outputs": [
    {
     "name": "stdout",
     "output_type": "stream",
     "text": [
      "Accuracy obtained : 45.089285714285715%\n"
     ]
    }
   ],
   "source": [
    "acc = c/len(new_df)*100\n",
    "print(f\"Accuracy obtained : {acc}%\")"
   ]
  },
  {
   "cell_type": "code",
   "execution_count": null,
   "id": "99201349-032b-4b6e-a13b-4d1675e69f66",
   "metadata": {},
   "outputs": [],
   "source": [
    "# Approach 2 : count as 1 if any word in ground truth label is present in extracted label\n",
    "\n",
    "c=0\n",
    "for index, row in new_df.iterrows():\n",
    "    if any(x in row['rTaxon'].lower() for x in row['Taxon'].lower().split()):\n",
    "        c+=1"
   ]
  },
  {
   "cell_type": "code",
   "execution_count": null,
   "id": "f49411e0-5314-4af1-87e9-543d77612dde",
   "metadata": {},
   "outputs": [
    {
     "name": "stdout",
     "output_type": "stream",
     "text": [
      "Accuracy obtained : 79.01785714285714%\n"
     ]
    }
   ],
   "source": [
    "acc = c/len(new_df)*100\n",
    "print(f\"Accuracy obtained : {acc}%\")"
   ]
  },
  {
   "cell_type": "code",
   "execution_count": null,
   "id": "cb2fb844-56a4-43ce-a928-f88d664d41a9",
   "metadata": {},
   "outputs": [],
   "source": [
    "tax_acc = acc"
   ]
  },
  {
   "cell_type": "code",
   "execution_count": null,
   "id": "807b1cdf-48d0-4eb5-a22d-44b32e81c2b1",
   "metadata": {},
   "outputs": [],
   "source": [
    "# Approach 3 : count as 1 if all words in ground truth label is present in extracted label (need not be in order)\n",
    "\n",
    "c=0\n",
    "for index, row in new_df.iterrows():\n",
    "    if(set(row['Taxon'].lower().split()).issubset(set(row['rTaxon'].lower().split()))):\n",
    "        c+=1"
   ]
  },
  {
   "cell_type": "code",
   "execution_count": null,
   "id": "b77bc03b-4d89-454f-bc28-ca46fbe3833e",
   "metadata": {},
   "outputs": [
    {
     "name": "stdout",
     "output_type": "stream",
     "text": [
      "101\n"
     ]
    }
   ],
   "source": [
    "print(c)"
   ]
  },
  {
   "cell_type": "code",
   "execution_count": null,
   "id": "1ab286eb-b3a2-47b9-9203-c3a475f26f47",
   "metadata": {},
   "outputs": [
    {
     "name": "stdout",
     "output_type": "stream",
     "text": [
      "Accuracy obtained : 45.089285714285715%\n"
     ]
    }
   ],
   "source": [
    "acc = c/len(new_df)*100\n",
    "print(f\"Accuracy obtained : {acc}%\")"
   ]
  },
  {
   "cell_type": "markdown",
   "id": "ade2556d-dc8b-4d7f-a060-3794504017a4",
   "metadata": {},
   "source": [
    "## 2. Extended Approach : Utilizing TaxoNERD and Cosine Similarity for predicting closest taxons"
   ]
  },
  {
   "cell_type": "code",
   "execution_count": null,
   "id": "fe3fc5cb-b590-4118-a574-7fbad13f4623",
   "metadata": {},
   "outputs": [
    {
     "name": "stdout",
     "output_type": "stream",
     "text": [
      "Sat Dec  9 23:00:41 2023       \n",
      "+---------------------------------------------------------------------------------------+\n",
      "| NVIDIA-SMI 535.129.03             Driver Version: 535.129.03   CUDA Version: 12.2     |\n",
      "|-----------------------------------------+----------------------+----------------------+\n",
      "| GPU  Name                 Persistence-M | Bus-Id        Disp.A | Volatile Uncorr. ECC |\n",
      "| Fan  Temp   Perf          Pwr:Usage/Cap |         Memory-Usage | GPU-Util  Compute M. |\n",
      "|                                         |                      |               MIG M. |\n",
      "|=========================================+======================+======================|\n",
      "|   0  Tesla V100-SXM2-16GB           On  | 00000000:18:00.0 Off |                    0 |\n",
      "| N/A   45C    P0              53W / 300W |      0MiB / 16384MiB |      0%   E. Process |\n",
      "|                                         |                      |                  N/A |\n",
      "+-----------------------------------------+----------------------+----------------------+\n",
      "|   1  Tesla V100-SXM2-16GB           On  | 00000000:3B:00.0 Off |                    0 |\n",
      "| N/A   41C    P0              60W / 300W |   7577MiB / 16384MiB |      0%   E. Process |\n",
      "|                                         |                      |                  N/A |\n",
      "+-----------------------------------------+----------------------+----------------------+\n",
      "|   2  Tesla V100-SXM2-16GB           On  | 00000000:86:00.0 Off |                    0 |\n",
      "| N/A   38C    P0              43W / 300W |      3MiB / 16384MiB |      0%   E. Process |\n",
      "|                                         |                      |                  N/A |\n",
      "+-----------------------------------------+----------------------+----------------------+\n",
      "|   3  Tesla V100-SXM2-16GB           On  | 00000000:AF:00.0 Off |                    0 |\n",
      "| N/A   42C    P0              45W / 300W |      0MiB / 16384MiB |      0%   E. Process |\n",
      "|                                         |                      |                  N/A |\n",
      "+-----------------------------------------+----------------------+----------------------+\n",
      "                                                                                         \n",
      "+---------------------------------------------------------------------------------------+\n",
      "| Processes:                                                                            |\n",
      "|  GPU   GI   CI        PID   Type   Process name                            GPU Memory |\n",
      "|        ID   ID                                                             Usage      |\n",
      "|=======================================================================================|\n",
      "|    1   N/A  N/A   1181907      C   ...gokhale/.conda/envs/prec/bin/python     7574MiB |\n",
      "+---------------------------------------------------------------------------------------+\n"
     ]
    }
   ],
   "source": [
    "! nvidia-smi"
   ]
  },
  {
   "cell_type": "code",
   "execution_count": null,
   "id": "94b8ff8f-9b5d-4e91-9f0a-61138a682a6d",
   "metadata": {},
   "outputs": [
    {
     "name": "stdout",
     "output_type": "stream",
     "text": [
      "/bin/bash: nvcc: command not found\n"
     ]
    }
   ],
   "source": [
    "! nvcc --version"
   ]
  },
  {
   "cell_type": "code",
   "execution_count": null,
   "id": "4eb644f3-b255-499b-a280-b085b177fc14",
   "metadata": {},
   "outputs": [],
   "source": [
    "taxonerd = TaxoNERD(prefer_gpu=False) # set to \"true\" if GPU is accessible"
   ]
  },
  {
   "cell_type": "code",
   "execution_count": null,
   "id": "a4d43f04-0a6d-4b63-a8c6-afc880969dd9",
   "metadata": {},
   "outputs": [],
   "source": [
    "#| exports\n",
    "# utility functions for finding cosine similarity\n",
    "\n",
    "def word2vec(word):\n",
    "    from collections import Counter\n",
    "    from math import sqrt\n",
    "\n",
    "    # count the characters in word\n",
    "    cw = Counter(word)\n",
    "    # precomputes a set of the different characters\n",
    "    sw = set(cw)\n",
    "    # precomputes the \"length\" of the word vector\n",
    "    lw = sqrt(sum(c*c for c in cw.values()))\n",
    "\n",
    "    # return a tuple\n",
    "    return cw, sw, lw\n",
    "\n",
    "def cosdis(v1, v2):\n",
    "    # which characters are common to the two words?\n",
    "    common = v1[1].intersection(v2[1])\n",
    "    # by definition of cosine distance we have\n",
    "    return sum(v1[0][ch]*v2[0][ch] for ch in common)/v1[2]/v2[2]"
   ]
  },
  {
   "cell_type": "code",
   "execution_count": null,
   "id": "21c17594-6fd8-4c96-9579-b2d7418e6f94",
   "metadata": {},
   "outputs": [],
   "source": [
    "# test \"gbif_backbone\" linker -> more species here\n",
    "# use BERT for person and location information\n",
    "\n",
    "taxon_output = []\n",
    "confidence_output = []\n",
    "\n",
    "nlp = taxonerd.load(\n",
    "    model=\"en_core_eco_biobert\", \n",
    "    linker=\"gbif_backbone\", \n",
    "    threshold=0\n",
    ")"
   ]
  },
  {
   "cell_type": "code",
   "execution_count": null,
   "id": "98c93833-7805-4c6e-b22b-23c0a75a1e9a",
   "metadata": {},
   "outputs": [
    {
     "name": "stderr",
     "output_type": "stream",
     "text": [
      "100%|██████████| 224/224 [03:38<00:00,  1.02it/s]\n"
     ]
    }
   ],
   "source": [
    "# predict taxons for text detected from each image\n",
    "for index, row in tqdm(new_df.iterrows(), total=new_df.shape[0]):\n",
    "    temp = row[\"rTaxon\"]\n",
    "\n",
    "    # construct a single string out of all the detected text\n",
    "    input_text = temp\n",
    "    doc = taxonerd.find_in_text(input_text)\n",
    "\n",
    "    try:\n",
    "        # append linked taxon entity and confidence\n",
    "        taxon_output.append(str(doc.entity[0][0][1]))\n",
    "        confidence_output.append(float(doc.entity[0][0][2]))\n",
    "\n",
    "    except AttributeError:\n",
    "        # append empty strings when no entity is detected\n",
    "        taxon_output.append(\"\")\n",
    "        confidence_output.append(float(0))"
   ]
  },
  {
   "cell_type": "code",
   "execution_count": null,
   "id": "ddb5e80c-14d5-4ed3-aee9-83d455fdd8c0",
   "metadata": {},
   "outputs": [],
   "source": [
    "# append predicted taxon and confidence scores to the dataframe\n",
    "new_df[\"Taxon_pred_Output\"] = taxon_output\n",
    "new_df[\"Taxon_Confidence_Output\"] = confidence_output"
   ]
  },
  {
   "cell_type": "code",
   "execution_count": null,
   "id": "b034cdb9-4446-4a35-84b1-695a139246ff",
   "metadata": {},
   "outputs": [],
   "source": [
    "# array to store computed similarity scores\n",
    "cosine_sim = []\n",
    "\n",
    "for index, row in new_df.iterrows():\n",
    "\n",
    "    # extract image name from the dataframe\n",
    "    # img_name = row[\"ID\"]\n",
    "    taxon_predicted = row[\"Taxon_pred_Output\"]\n",
    "    taxon_gt = row[\"Taxon\"]\n",
    "\n",
    "    # compute cosine similarity between the predicted taxon and ground truth\n",
    "    try:\n",
    "        sim = cosdis(word2vec(taxon_gt), word2vec(taxon_predicted))\n",
    "        cosine_sim.append(sim)\n",
    "        # print(taxon_gt, taxon_predicted, sim)\n",
    "\n",
    "    except ZeroDivisionError:\n",
    "        cosine_sim.append(0)\n",
    "        # print(taxon_gt, taxon_predicted,\"0\")\n",
    "\n",
    "# append similarity scores to the dataframe\n",
    "new_df[\"Cosine_Similarity\"] = cosine_sim"
   ]
  },
  {
   "cell_type": "code",
   "execution_count": null,
   "id": "45aebb6f-cd96-4852-88cc-41ffb0944b87",
   "metadata": {},
   "outputs": [
    {
     "data": {
      "text/html": [
       "<div>\n",
       "<style scoped>\n",
       "    .dataframe tbody tr th:only-of-type {\n",
       "        vertical-align: middle;\n",
       "    }\n",
       "\n",
       "    .dataframe tbody tr th {\n",
       "        vertical-align: top;\n",
       "    }\n",
       "\n",
       "    .dataframe thead th {\n",
       "        text-align: right;\n",
       "    }\n",
       "</style>\n",
       "<table border=\"1\" class=\"dataframe\">\n",
       "  <thead>\n",
       "    <tr style=\"text-align: right;\">\n",
       "      <th></th>\n",
       "      <th>Confidence_Threshold</th>\n",
       "      <th>Taxons_Predicted</th>\n",
       "      <th>Taxons_Accuracy_Predicted</th>\n",
       "    </tr>\n",
       "  </thead>\n",
       "  <tbody>\n",
       "    <tr>\n",
       "      <th>0</th>\n",
       "      <td>0.0</td>\n",
       "      <td>148.0</td>\n",
       "      <td>0.725490</td>\n",
       "    </tr>\n",
       "    <tr>\n",
       "      <th>1</th>\n",
       "      <td>0.1</td>\n",
       "      <td>148.0</td>\n",
       "      <td>0.725490</td>\n",
       "    </tr>\n",
       "    <tr>\n",
       "      <th>2</th>\n",
       "      <td>0.2</td>\n",
       "      <td>148.0</td>\n",
       "      <td>0.725490</td>\n",
       "    </tr>\n",
       "    <tr>\n",
       "      <th>3</th>\n",
       "      <td>0.3</td>\n",
       "      <td>148.0</td>\n",
       "      <td>0.729064</td>\n",
       "    </tr>\n",
       "    <tr>\n",
       "      <th>4</th>\n",
       "      <td>0.4</td>\n",
       "      <td>148.0</td>\n",
       "      <td>0.732673</td>\n",
       "    </tr>\n",
       "    <tr>\n",
       "      <th>5</th>\n",
       "      <td>0.5</td>\n",
       "      <td>145.0</td>\n",
       "      <td>0.739796</td>\n",
       "    </tr>\n",
       "    <tr>\n",
       "      <th>6</th>\n",
       "      <td>0.6</td>\n",
       "      <td>141.0</td>\n",
       "      <td>0.742105</td>\n",
       "    </tr>\n",
       "    <tr>\n",
       "      <th>7</th>\n",
       "      <td>0.7</td>\n",
       "      <td>130.0</td>\n",
       "      <td>0.778443</td>\n",
       "    </tr>\n",
       "    <tr>\n",
       "      <th>8</th>\n",
       "      <td>0.8</td>\n",
       "      <td>104.0</td>\n",
       "      <td>0.759124</td>\n",
       "    </tr>\n",
       "    <tr>\n",
       "      <th>9</th>\n",
       "      <td>0.9</td>\n",
       "      <td>60.0</td>\n",
       "      <td>0.789474</td>\n",
       "    </tr>\n",
       "  </tbody>\n",
       "</table>\n",
       "</div>"
      ],
      "text/plain": [
       "   Confidence_Threshold  Taxons_Predicted  Taxons_Accuracy_Predicted\n",
       "0                   0.0             148.0                   0.725490\n",
       "1                   0.1             148.0                   0.725490\n",
       "2                   0.2             148.0                   0.725490\n",
       "3                   0.3             148.0                   0.729064\n",
       "4                   0.4             148.0                   0.732673\n",
       "5                   0.5             145.0                   0.739796\n",
       "6                   0.6             141.0                   0.742105\n",
       "7                   0.7             130.0                   0.778443\n",
       "8                   0.8             104.0                   0.759124\n",
       "9                   0.9              60.0                   0.789474"
      ]
     },
     "metadata": {},
     "output_type": "display_data"
    }
   ],
   "source": [
    "final_taxon_prediction = pd.DataFrame(columns=[\"Confidence_Threshold\", \"Taxons_Predicted\", \"Taxons_Accuracy_Predicted\"])\n",
    "temp_df = pd.DataFrame()\n",
    "\n",
    "# generate list of similarity thresholds\n",
    "# sim_threshold = [0.9]\n",
    "sim_threshold =0.8\n",
    "\n",
    "# generate list of confidence thresholds\n",
    "confidence_threshold = np.arange(0, 1, 0.1)\n",
    "\n",
    "# compute prediction accuracy at each confidence threshold\n",
    "for conf_threshold in confidence_threshold:\n",
    "    \n",
    "    temp_df = new_df[(new_df[\"Taxon_Confidence_Output\"] > conf_threshold)]\n",
    "    \n",
    "    acc_count = (temp_df[\"Cosine_Similarity\"] > sim_threshold).sum()\n",
    "\n",
    "    acc_val = acc_count/len(temp_df)\n",
    "\n",
    "    temp = [conf_threshold, acc_count, acc_val]\n",
    "    final_taxon_prediction.loc[len(final_taxon_prediction)] = temp\n",
    "\n",
    "display(final_taxon_prediction)"
   ]
  },
  {
   "cell_type": "markdown",
   "id": "a58eb3ba-cf77-4aca-9441-2ff4cc8a43f7",
   "metadata": {},
   "source": [
    "Note : Adapted from Spring semester trocr-test notebook\n",
    "\n",
    "1. We first obtain the taxon predictions with a confidence score for each taxon.\n",
    "2. We then compute cosine similarities of the predicted taxons with the ground truth taxons\n",
    "3. We then, at each interval of the confidence threashold, compute number of taxons that have a high cosine similarity with the ground truth. The scores above are computed for a specific cosine similarity score \">0.8\". We need to perform this step because, the taxons are matched against entries from the ncbi_taxonomy database (as part of TaxoNERD) and, the predicted taxon might not exactly match the ground truth and we are accounting for this using cosine similarity.\n",
    "4. We can try to use the GBIF database to predict taxons and also experiment with different thresholds for the cosine similarity scores. But, in general, the chosen cosine similarity threshold offers an incremental performance upgrade compared to the last semester work.\n",
    "5. Our highest Accuracy = 78.9% compared to Spring semester = 71.7%"
   ]
  },
  {
   "cell_type": "markdown",
   "id": "2e20846a-c0a8-40c3-b864-750f154e70e0",
   "metadata": {},
   "source": [
    "## Collector Metrics\n",
    "\n",
    "### Accuracy"
   ]
  },
  {
   "cell_type": "code",
   "execution_count": null,
   "id": "4a519b57-8a6e-4f92-8862-fbe23c2cb8e5",
   "metadata": {},
   "outputs": [],
   "source": [
    "#Approach 1 - count as 1 only if ground truth label is present as is in extracted label\n",
    "c=0\n",
    "for index, row in new_df.iterrows():\n",
    "    if row['Collector'].lower() in row['rCollector'].lower():\n",
    "        c+=1"
   ]
  },
  {
   "cell_type": "code",
   "execution_count": null,
   "id": "05f4ce16-e5cc-46f0-87a2-4bbc972237a9",
   "metadata": {},
   "outputs": [
    {
     "name": "stdout",
     "output_type": "stream",
     "text": [
      "Accuracy obtained : 33.035714285714285%\n"
     ]
    }
   ],
   "source": [
    "acc = c/len(new_df)*100\n",
    "print(f\"Accuracy obtained : {acc}%\")"
   ]
  },
  {
   "cell_type": "code",
   "execution_count": null,
   "id": "d2801c90-9704-46ad-8c0e-fcf4dd735382",
   "metadata": {},
   "outputs": [],
   "source": [
    "# Approach 2 : count as 1 if any word in ground truth label is present in extracted label\n",
    "\n",
    "c=0\n",
    "for index, row in new_df.iterrows():\n",
    "    if any(x in row['rCollector'].lower() for x in row['Collector'].lower().split()):\n",
    "        # print(row['Collector'].lower(), row['rCollector'].lower())\n",
    "        c+=1"
   ]
  },
  {
   "cell_type": "code",
   "execution_count": null,
   "id": "28b0c7a2-07b4-452b-87d0-cf66dc543f68",
   "metadata": {},
   "outputs": [
    {
     "name": "stdout",
     "output_type": "stream",
     "text": [
      "Accuracy obtained : 86.16071428571429%\n"
     ]
    }
   ],
   "source": [
    "acc = c/len(new_df)*100\n",
    "print(f\"Accuracy obtained : {acc}%\")"
   ]
  },
  {
   "cell_type": "code",
   "execution_count": null,
   "id": "4d7b60c6-9055-49d2-8cdd-3b5eebfc76c0",
   "metadata": {},
   "outputs": [],
   "source": [
    "col_acc = acc"
   ]
  },
  {
   "cell_type": "code",
   "execution_count": null,
   "id": "49db0a5d-6d47-49b9-ae05-3a44a08702eb",
   "metadata": {},
   "outputs": [],
   "source": [
    "# Approach 3 : count as 1 if all words in ground truth label is present in extracted label (need not be in order)\n",
    "\n",
    "c=0\n",
    "for index, row in new_df.iterrows():\n",
    "    if(set(row['Collector'].lower().split()).issubset(set(row['rCollector'].lower().split()))):\n",
    "        c+=1"
   ]
  },
  {
   "cell_type": "code",
   "execution_count": null,
   "id": "30f6b2b6-0bbc-46d3-8d17-fa6e9173126f",
   "metadata": {},
   "outputs": [
    {
     "name": "stdout",
     "output_type": "stream",
     "text": [
      "Accuracy obtained : 36.160714285714285%\n"
     ]
    }
   ],
   "source": [
    "acc = c/len(new_df)*100\n",
    "print(f\"Accuracy obtained : {acc}%\")"
   ]
  },
  {
   "cell_type": "markdown",
   "id": "9ee31361-5525-40c7-9658-24fce8ee3e5b",
   "metadata": {},
   "source": [
    "**Observation** : We believe that Approach 2 in the above accuracy measures is a good evaluation to consider for Collector Name. The reason is that the Ground truth labels that we have rarely have first names and middle names spelled out completely. The order of the names are sometimes also different between the ground truth and extracted names. By manual inspection, we ascertain that the model gets a reasonably close estimation to the actual name of the collector and so the 86% accuracy score we get by considering even 1 word being present in the output is justified."
   ]
  },
  {
   "cell_type": "markdown",
   "id": "3a1f87dd-ae13-4c3b-b7f5-a8aaff023864",
   "metadata": {},
   "source": [
    "## Geography Metrics\n",
    "\n",
    "### Accuracy"
   ]
  },
  {
   "cell_type": "code",
   "execution_count": null,
   "id": "4989d283-96c0-4367-8098-b410333a7730",
   "metadata": {},
   "outputs": [],
   "source": [
    "#Approach 1 - count as 1 only if ground truth label is present as is in extracted label\n",
    "c=0\n",
    "for index, row in new_df.iterrows():\n",
    "    \n",
    "    if row['Geography'].lower() in row['rGeography'].lower():\n",
    "        # print(row['Geography'].lower(), row['rGeography'].lower())\n",
    "        c+=1"
   ]
  },
  {
   "cell_type": "code",
   "execution_count": null,
   "id": "5e5efe1f-6b3f-4788-b0e6-ab3405f1ef99",
   "metadata": {},
   "outputs": [
    {
     "name": "stdout",
     "output_type": "stream",
     "text": [
      "Accuracy obtained : 92.85714285714286%\n"
     ]
    }
   ],
   "source": [
    "acc = c/len(new_df)*100\n",
    "print(f\"Accuracy obtained : {acc}%\")"
   ]
  },
  {
   "cell_type": "code",
   "execution_count": null,
   "id": "285bb264-87ed-4e8b-bc7d-57b4ab458c17",
   "metadata": {},
   "outputs": [],
   "source": [
    "# print(new_df[['Geography','rGeography']]) "
   ]
  },
  {
   "cell_type": "code",
   "execution_count": null,
   "id": "d8ac8747-0ed9-42a3-a8ae-d4cac028b969",
   "metadata": {},
   "outputs": [],
   "source": [
    "new_df.to_csv(\"combined_df.csv\")"
   ]
  },
  {
   "cell_type": "code",
   "execution_count": null,
   "id": "464aa214-4ccd-4830-9b83-34af48beeb8c",
   "metadata": {},
   "outputs": [],
   "source": [
    "# Approach 2 : count as 1 if any word in ground truth label is present in extracted label\n",
    "\n",
    "c=0\n",
    "for index, row in new_df.iterrows():\n",
    "    if any(x in row['rGeography'].lower() for x in row['Geography'].lower().split()):\n",
    "        # print(row['Geography'], row['rGeography'])\n",
    "        c+=1"
   ]
  },
  {
   "cell_type": "code",
   "execution_count": null,
   "id": "7d2849e0-f99c-4044-982e-a49a3b6ea6cf",
   "metadata": {},
   "outputs": [
    {
     "name": "stdout",
     "output_type": "stream",
     "text": [
      "Accuracy obtained : 94.64285714285714%\n"
     ]
    }
   ],
   "source": [
    "acc = c/len(new_df)*100\n",
    "print(f\"Accuracy obtained : {acc}%\")"
   ]
  },
  {
   "cell_type": "code",
   "execution_count": null,
   "id": "f9ebbb26-b510-4a25-806d-088c812f94d4",
   "metadata": {},
   "outputs": [],
   "source": [
    "geo_acc = acc"
   ]
  },
  {
   "cell_type": "code",
   "execution_count": null,
   "id": "e46b5aa6-5493-4cfb-ad7a-4d9e1d5c588f",
   "metadata": {},
   "outputs": [],
   "source": [
    "# Approach 3 : count as 1 if all words in ground truth label is present in extracted label (need not be in order)\n",
    "\n",
    "c=0\n",
    "for index, row in new_df.iterrows():\n",
    "    if(set(row['Geography'].lower().split()).issubset(set(row['rGeography'].lower().split()))):\n",
    "        c+=1"
   ]
  },
  {
   "cell_type": "code",
   "execution_count": null,
   "id": "586f10f8-34f6-49bd-892a-48e323bdbb43",
   "metadata": {},
   "outputs": [
    {
     "name": "stdout",
     "output_type": "stream",
     "text": [
      "Accuracy obtained : 92.85714285714286%\n"
     ]
    }
   ],
   "source": [
    "acc = c/len(new_df)*100\n",
    "print(f\"Accuracy obtained : {acc}%\")"
   ]
  },
  {
   "cell_type": "markdown",
   "id": "8657094e-0ba0-4e7f-bb13-34c1e8206543",
   "metadata": {},
   "source": [
    "## Visualizations"
   ]
  },
  {
   "cell_type": "code",
   "execution_count": null,
   "id": "7a74fecd-faf9-4312-b6f0-3d7f841b6bec",
   "metadata": {},
   "outputs": [
    {
     "data": {
      "image/png": "[encoded data removed]",
      "text/plain": [
       "<Figure size 640x480 with 1 Axes>"
      ]
     },
     "metadata": {},
     "output_type": "display_data"
    }
   ],
   "source": [
    "df_scores = pd.DataFrame({\n",
    "        'Labels Extracted': ['Geography', 'Collector', 'Taxon'],\n",
    "        'Accuracy (in %)': [geo_acc, col_acc, tax_acc]\n",
    "})\n",
    "\n",
    "df_scores = df_scores.sort_values(['Accuracy (in %)'], ascending=False).reset_index(drop=True)\n",
    "# who v/s fare barplot \n",
    "palette=[\"#2ec4b6\",\"#ffbf69\",\"#fb6f92\"]\n",
    "ax = sns.barplot(x = 'Labels Extracted',\n",
    "            y = 'Accuracy (in %)',\n",
    "           data = df_scores,\n",
    "           hue = 'Labels Extracted',\n",
    "           palette=palette)\n",
    "\n",
    "for i in ax.containers:\n",
    "    ax.bar_label(i,)\n",
    "# Show the plot\n",
    "plt.show()"
   ]
  },
  {
   "cell_type": "code",
   "execution_count": null,
   "id": "c796642e-0baf-4bc7-8fec-8c420ff7c48e",
   "metadata": {},
   "outputs": [],
   "source": [
    "# fig = plt.get_figure()\n",
    "ax.figure.savefig(\"scores.png\") "
   ]
  }
 ],
 "metadata": {
  "kernelspec": {
   "display_name": "python3",
   "language": "python",
   "name": "python3"
  }
 },
 "nbformat": 4,
 "nbformat_minor": 5
}
