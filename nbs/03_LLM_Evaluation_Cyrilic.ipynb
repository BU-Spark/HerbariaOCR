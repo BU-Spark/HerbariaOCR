{
 "cells": [
  {
   "cell_type": "code",
   "execution_count": null,
   "id": "ea55f23d-5686-46bd-935c-1ee7576b0f84",
   "metadata": {},
   "outputs": [],
   "source": [
    "#| default_exp LLM_Evaluation_Cyrillic"
   ]
  },
  {
   "cell_type": "markdown",
   "id": "1c40b010-eb49-4802-9d1e-699dafa2708f",
   "metadata": {},
   "source": [
    "### Procedure for Evaluation : Cyrillic Labels - Smriti\n",
    "\n",
    "* Open taxon, collector, geography gt-labels and the gpt-resized-results \n",
    "* Check if gpt-file has attribute of scientificname, collected by / recorded by, country/locality\n",
    "* Make count of all comparable files (some don't have valid responses - ignore these)\n",
    "* Check match of the gt with produced labels (if produced label in gt) or perhaps some better match method (similarity measures)\n",
    "* Count number of matches with some threshold value ->50% match \n",
    "* Measure of accuracy "
   ]
  },
  {
   "cell_type": "code",
   "execution_count": null,
   "id": "23a973aa-c744-4156-872c-6ffcd5d3d839",
   "metadata": {},
   "outputs": [],
   "source": [
    "#| hide\n",
    "#installations necessary\n",
    "# pip install taxonerd\n",
    "# pip install https://github.com/nleguillarme/taxonerd/releases/download/v1.5.0/en_core_eco_biobert-1.0.2.tar.gz\n",
    "# pip install tqdm\n",
    "# pip install seaborn"
   ]
  },
  {
   "cell_type": "code",
   "execution_count": null,
   "id": "37fc97e3",
   "metadata": {},
   "outputs": [],
   "source": [
    "! pip3 install https://github.com/nleguillarme/taxonerd/releases/download/v1.5.0/en_core_eco_biobert-1.0.2.tar.gz"
   ]
  },
  {
   "cell_type": "code",
   "execution_count": null,
   "id": "46764cfe-6a33-4ae9-b336-09ee5a506666",
   "metadata": {},
   "outputs": [],
   "source": [
    "#| hide\n",
    "#import statements\n",
    "import os\n",
    "import pandas as pd\n",
    "import numpy as np\n",
    "import re\n",
    "from taxonerd import TaxoNERD\n",
    "from tqdm import tqdm\n",
    "import seaborn as sns\n",
    "import matplotlib.pyplot as plt"
   ]
  },
  {
   "cell_type": "markdown",
   "id": "39bd8306-3934-4b66-8e2d-6deed6be7528",
   "metadata": {},
   "source": [
    "### Convert ground truth labels into Dataframe for easy access"
   ]
  },
  {
   "cell_type": "code",
   "execution_count": null,
   "id": "5f82bf9f-c2ce-4a24-b113-e129ec293096",
   "metadata": {},
   "outputs": [
    {
     "name": "stdout",
     "output_type": "stream",
     "text": [
      "/projectnb/sparkgrp/ml-herbarium-grp/fall2023/CyrillicResults\n"
     ]
    }
   ],
   "source": [
    "print(os.getcwd())\n",
    "# os.chdir(\"gt_labels/\")\n",
    "# os.chdir(\"../ml-herbarium-data/scraped-data/drago_testdata/gt_labels\")\n",
    "os.chdir('data/CyrillicImages/')\n",
    "gt = pd.read_csv('CyrillicData.csv')"
   ]
  },
  {
   "cell_type": "code",
   "execution_count": null,
   "id": "e819ddf4-8765-4589-b81a-60de66564ddf",
   "metadata": {},
   "outputs": [
    {
     "data": {
      "text/html": [
       "<div>\n",
       "<style scoped>\n",
       "    .dataframe tbody tr th:only-of-type {\n",
       "        vertical-align: middle;\n",
       "    }\n",
       "\n",
       "    .dataframe tbody tr th {\n",
       "        vertical-align: top;\n",
       "    }\n",
       "\n",
       "    .dataframe thead th {\n",
       "        text-align: right;\n",
       "    }\n",
       "</style>\n",
       "<table border=\"1\" class=\"dataframe\">\n",
       "  <thead>\n",
       "    <tr style=\"text-align: right;\">\n",
       "      <th></th>\n",
       "      <th>image number</th>\n",
       "      <th>Handwritten</th>\n",
       "      <th>Barcode</th>\n",
       "      <th>scientificName</th>\n",
       "      <th>country</th>\n",
       "      <th>recordedBy</th>\n",
       "      <th>eventDate</th>\n",
       "      <th>Label text (georgraphy and ecology)</th>\n",
       "      <th>Unnamed: 8</th>\n",
       "    </tr>\n",
       "  </thead>\n",
       "  <tbody>\n",
       "    <tr>\n",
       "      <th>0</th>\n",
       "      <td>1</td>\n",
       "      <td>No</td>\n",
       "      <td>MW0464618</td>\n",
       "      <td>Ledum palustre L.</td>\n",
       "      <td>Russia</td>\n",
       "      <td>Вехов В.Н.</td>\n",
       "      <td>1983-07-06</td>\n",
       "      <td>Карелия, Ругозерская губа Кандалакшского залив...</td>\n",
       "      <td>NaN</td>\n",
       "    </tr>\n",
       "    <tr>\n",
       "      <th>1</th>\n",
       "      <td>2</td>\n",
       "      <td>Yes</td>\n",
       "      <td>MW0001412</td>\n",
       "      <td>Pinus funebris Kom.</td>\n",
       "      <td>Russia</td>\n",
       "      <td>В. Комаров</td>\n",
       "      <td>1930-09-07</td>\n",
       "      <td>г. Никольск-Уссурийский, долина р. Супутинки. ...</td>\n",
       "      <td>NaN</td>\n",
       "    </tr>\n",
       "    <tr>\n",
       "      <th>2</th>\n",
       "      <td>3</td>\n",
       "      <td>Yes</td>\n",
       "      <td>MW0001364</td>\n",
       "      <td>Pinus pumila Rgl.\\r</td>\n",
       "      <td>Russia</td>\n",
       "      <td>В. Куваев</td>\n",
       "      <td>1951-07-15</td>\n",
       "      <td>о. 6. Томп. Верх. хр. горы, лиственничная тайг...</td>\n",
       "      <td>NaN</td>\n",
       "    </tr>\n",
       "    <tr>\n",
       "      <th>3</th>\n",
       "      <td>4</td>\n",
       "      <td>Yes</td>\n",
       "      <td>MW0001309</td>\n",
       "      <td>Pinus pumila (Pall.) Regl.\\r</td>\n",
       "      <td>Russia</td>\n",
       "      <td>\\tКарев Г.И.</td>\n",
       "      <td>1930-0626</td>\n",
       "      <td>Камчатка. Козыревский совхоз = урочище Среднек...</td>\n",
       "      <td>NaN</td>\n",
       "    </tr>\n",
       "    <tr>\n",
       "      <th>4</th>\n",
       "      <td>5</td>\n",
       "      <td>Yes</td>\n",
       "      <td>MW0001310</td>\n",
       "      <td>Pinus pumila Rgl.</td>\n",
       "      <td>Russia</td>\n",
       "      <td>В. Комаров</td>\n",
       "      <td>1909-10-10</td>\n",
       "      <td>Камчатка. У Петропавловска на Петровской горе</td>\n",
       "      <td>NaN</td>\n",
       "    </tr>\n",
       "  </tbody>\n",
       "</table>\n",
       "</div>"
      ],
      "text/plain": [
       "   image number Handwritten   Barcode                 scientificName country   \\\n",
       "0             1          No  MW0464618             Ledum palustre L.   Russia   \n",
       "1             2         Yes  MW0001412           Pinus funebris Kom.   Russia   \n",
       "2             3         Yes  MW0001364           Pinus pumila Rgl.\\r   Russia   \n",
       "3             4         Yes  MW0001309  Pinus pumila (Pall.) Regl.\\r   Russia   \n",
       "4             5         Yes  MW0001310             Pinus pumila Rgl.   Russia   \n",
       "\n",
       "          recordedBy   eventDate  \\\n",
       "0         Вехов В.Н.  1983-07-06   \n",
       "1         В. Комаров  1930-09-07   \n",
       "2          В. Куваев  1951-07-15   \n",
       "3       \\tКарев Г.И.   1930-0626   \n",
       "4         В. Комаров  1909-10-10   \n",
       "\n",
       "                 Label text (georgraphy and ecology) Unnamed: 8  \n",
       "0  Карелия, Ругозерская губа Кандалакшского залив...        NaN  \n",
       "1  г. Никольск-Уссурийский, долина р. Супутинки. ...        NaN  \n",
       "2  о. 6. Томп. Верх. хр. горы, лиственничная тайг...        NaN  \n",
       "3  Камчатка. Козыревский совхоз = урочище Среднек...        NaN  \n",
       "4      Камчатка. У Петропавловска на Петровской горе        NaN  "
      ]
     },
     "execution_count": null,
     "metadata": {},
     "output_type": "execute_result"
    }
   ],
   "source": [
    "gt.head()"
   ]
  },
  {
   "cell_type": "code",
   "execution_count": null,
   "id": "2c4122e2-0042-434e-bd97-94af96fd9592",
   "metadata": {},
   "outputs": [],
   "source": [
    "gt = gt.drop(\"Unnamed: 8\", axis=1)"
   ]
  },
  {
   "cell_type": "code",
   "execution_count": null,
   "id": "400c85af-2b9c-4f50-99d5-e1dc73686117",
   "metadata": {},
   "outputs": [],
   "source": [
    "gt = gt.rename(columns = {'image number': 'ID', 'scientificName':'Taxon', 'recordedBy':'Collector','country ':'Geography'})"
   ]
  },
  {
   "cell_type": "markdown",
   "id": "e341210c-a537-4b40-84b2-03304ec1092e",
   "metadata": {},
   "source": [
    "#### Convert all labels to lower case and remove escape characters"
   ]
  },
  {
   "cell_type": "code",
   "execution_count": null,
   "id": "21d316b1-47e9-4920-bbb2-0864375fb392",
   "metadata": {},
   "outputs": [],
   "source": [
    "gt['Taxon'] = gt['Taxon'].str.lower().replace(\"\\t\\n\", \"\")\n",
    "gt['Collector'] = gt['Collector'].str.lower().replace(\"\\t\\n\", \"\")\n",
    "gt['Geography'] = gt['Geography'].str.lower().replace(\"\\t\\n\", \"\")\n",
    "gt = gt.fillna('')"
   ]
  },
  {
   "cell_type": "code",
   "execution_count": null,
   "id": "354b621f-4f8a-4671-8ae2-9af1086913e7",
   "metadata": {},
   "outputs": [
    {
     "data": {
      "text/html": [
       "<div>\n",
       "<style scoped>\n",
       "    .dataframe tbody tr th:only-of-type {\n",
       "        vertical-align: middle;\n",
       "    }\n",
       "\n",
       "    .dataframe tbody tr th {\n",
       "        vertical-align: top;\n",
       "    }\n",
       "\n",
       "    .dataframe thead th {\n",
       "        text-align: right;\n",
       "    }\n",
       "</style>\n",
       "<table border=\"1\" class=\"dataframe\">\n",
       "  <thead>\n",
       "    <tr style=\"text-align: right;\">\n",
       "      <th></th>\n",
       "      <th>ID</th>\n",
       "      <th>Handwritten</th>\n",
       "      <th>Barcode</th>\n",
       "      <th>Taxon</th>\n",
       "      <th>Geography</th>\n",
       "      <th>Collector</th>\n",
       "      <th>eventDate</th>\n",
       "      <th>Label text (georgraphy and ecology)</th>\n",
       "    </tr>\n",
       "  </thead>\n",
       "  <tbody>\n",
       "    <tr>\n",
       "      <th>0</th>\n",
       "      <td>1</td>\n",
       "      <td>No</td>\n",
       "      <td>MW0464618</td>\n",
       "      <td>ledum palustre l.</td>\n",
       "      <td>russia</td>\n",
       "      <td>вехов в.н.</td>\n",
       "      <td>1983-07-06</td>\n",
       "      <td>Карелия, Ругозерская губа Кандалакшского залив...</td>\n",
       "    </tr>\n",
       "    <tr>\n",
       "      <th>1</th>\n",
       "      <td>2</td>\n",
       "      <td>Yes</td>\n",
       "      <td>MW0001412</td>\n",
       "      <td>pinus funebris kom.</td>\n",
       "      <td>russia</td>\n",
       "      <td>в. комаров</td>\n",
       "      <td>1930-09-07</td>\n",
       "      <td>г. Никольск-Уссурийский, долина р. Супутинки. ...</td>\n",
       "    </tr>\n",
       "    <tr>\n",
       "      <th>2</th>\n",
       "      <td>3</td>\n",
       "      <td>Yes</td>\n",
       "      <td>MW0001364</td>\n",
       "      <td>pinus pumila rgl.\\r</td>\n",
       "      <td>russia</td>\n",
       "      <td>в. куваев</td>\n",
       "      <td>1951-07-15</td>\n",
       "      <td>о. 6. Томп. Верх. хр. горы, лиственничная тайг...</td>\n",
       "    </tr>\n",
       "    <tr>\n",
       "      <th>3</th>\n",
       "      <td>4</td>\n",
       "      <td>Yes</td>\n",
       "      <td>MW0001309</td>\n",
       "      <td>pinus pumila (pall.) regl.\\r</td>\n",
       "      <td>russia</td>\n",
       "      <td>\\tкарев г.и.</td>\n",
       "      <td>1930-0626</td>\n",
       "      <td>Камчатка. Козыревский совхоз = урочище Среднек...</td>\n",
       "    </tr>\n",
       "    <tr>\n",
       "      <th>4</th>\n",
       "      <td>5</td>\n",
       "      <td>Yes</td>\n",
       "      <td>MW0001310</td>\n",
       "      <td>pinus pumila rgl.</td>\n",
       "      <td>russia</td>\n",
       "      <td>в. комаров</td>\n",
       "      <td>1909-10-10</td>\n",
       "      <td>Камчатка. У Петропавловска на Петровской горе</td>\n",
       "    </tr>\n",
       "  </tbody>\n",
       "</table>\n",
       "</div>"
      ],
      "text/plain": [
       "   ID Handwritten   Barcode                          Taxon Geography  \\\n",
       "0   1          No  MW0464618             ledum palustre l.    russia   \n",
       "1   2         Yes  MW0001412           pinus funebris kom.    russia   \n",
       "2   3         Yes  MW0001364           pinus pumila rgl.\\r    russia   \n",
       "3   4         Yes  MW0001309  pinus pumila (pall.) regl.\\r    russia   \n",
       "4   5         Yes  MW0001310             pinus pumila rgl.    russia   \n",
       "\n",
       "           Collector   eventDate  \\\n",
       "0         вехов в.н.  1983-07-06   \n",
       "1         в. комаров  1930-09-07   \n",
       "2          в. куваев  1951-07-15   \n",
       "3       \\tкарев г.и.   1930-0626   \n",
       "4         в. комаров  1909-10-10   \n",
       "\n",
       "                 Label text (georgraphy and ecology)  \n",
       "0  Карелия, Ругозерская губа Кандалакшского залив...  \n",
       "1  г. Никольск-Уссурийский, долина р. Супутинки. ...  \n",
       "2  о. 6. Томп. Верх. хр. горы, лиственничная тайг...  \n",
       "3  Камчатка. Козыревский совхоз = урочище Среднек...  \n",
       "4      Камчатка. У Петропавловска на Петровской горе  "
      ]
     },
     "execution_count": null,
     "metadata": {},
     "output_type": "execute_result"
    }
   ],
   "source": [
    "gt.head()"
   ]
  },
  {
   "cell_type": "markdown",
   "id": "315c60dc-f0fd-499b-8832-a1e6f4046494",
   "metadata": {},
   "source": [
    "### Extract results from Azure model into pandas dataframe"
   ]
  },
  {
   "cell_type": "code",
   "execution_count": null,
   "id": "6839638d-2454-4314-871e-a2a8e170e352",
   "metadata": {},
   "outputs": [
    {
     "name": "stdout",
     "output_type": "stream",
     "text": [
      "/projectnb/sparkgrp/ml-herbarium-grp/fall2023/CyrillicResults\n",
      "True\n"
     ]
    }
   ],
   "source": [
    "#Load the azure vision results\n",
    "os.chdir('../CyrillicResults/')\n",
    "print(os.getcwd())\n",
    "# os.chdir('/projectnb/sparkgrp/ml-herbarium-grp/fall2023/temp/')\n",
    "\n",
    "folder_path = os.getcwd()\n",
    "result_files = [f for f in os.listdir(folder_path) if os.path.isfile(os.path.join(folder_path, f)) and f.endswith(('txt'))]\n",
    "\n",
    "#checking for duplicate files\n",
    "print(len(result_files)==len(set(result_files)))\n",
    "rows = []\n",
    "for i in result_files:\n",
    "    # print(i)\n",
    "    # break\n",
    "    f = open(i, 'r')\n",
    "    lines = f.readlines()\n",
    "    new_row=[]\n",
    "    taxon_res=\"\"\n",
    "    geo_res=\"\"\n",
    "    col_res=\"\"\n",
    "    \n",
    "    for line in lines:\n",
    "        if \"scientificname\\\":\" in line.lower():\n",
    "            taxon_res=line.strip().split(\":\")[1].replace(\",\",\"\").replace('\"', '').lstrip()\n",
    "        if \"country\\\":\" in line.lower():\n",
    "            geo_res=line.strip().split(\":\")[1].replace(\",\",\"\").replace('\"', '').lstrip()\n",
    "        if \"collectedby\\\":\" in line.lower() or \"recordedby\\\":\" in line.lower() or \"collector\\\":\" in line.lower():\n",
    "            # print(line.strip().split(\":\"))\n",
    "            col_res=line.strip().split(\":\")[1].replace(\",\",\"\").replace('\"', '').lstrip()\n",
    "            \n",
    "    new_row = [i.replace('.txt',''),taxon_res,col_res,geo_res]\n",
    "    rows.append(new_row)\n",
    "    f.close()\n"
   ]
  },
  {
   "cell_type": "code",
   "execution_count": null,
   "id": "84565661-7a42-41ab-b760-88c82ce18579",
   "metadata": {},
   "outputs": [],
   "source": [
    "rt = pd.DataFrame(rows, columns=['ID', 'rTaxon', 'rCollector', 'rGeography'])"
   ]
  },
  {
   "cell_type": "code",
   "execution_count": null,
   "id": "0b7937be-6e23-46f2-9a88-db73376c7a1b",
   "metadata": {},
   "outputs": [],
   "source": [
    "rt = rt.fillna(\"\")"
   ]
  },
  {
   "cell_type": "code",
   "execution_count": null,
   "id": "860c64a6-5882-4f4a-8d40-830aac276097",
   "metadata": {},
   "outputs": [
    {
     "data": {
      "text/plain": [
       "False"
      ]
     },
     "execution_count": null,
     "metadata": {},
     "output_type": "execute_result"
    }
   ],
   "source": [
    "rt.isnull().values.any()"
   ]
  },
  {
   "cell_type": "code",
   "execution_count": null,
   "id": "fe990b07-d57b-49cf-be51-c62147dd646f",
   "metadata": {},
   "outputs": [
    {
     "data": {
      "text/plain": [
       "(array([], dtype=int64), array([], dtype=int64))"
      ]
     },
     "execution_count": null,
     "metadata": {},
     "output_type": "execute_result"
    }
   ],
   "source": [
    "np.where(pd.isnull(rt))"
   ]
  },
  {
   "cell_type": "code",
   "execution_count": null,
   "id": "b5abb290-ef97-486c-aea7-51b4b22dc7dc",
   "metadata": {},
   "outputs": [
    {
     "data": {
      "text/plain": [
       "(array([ 0,  1,  6, 11, 14, 15, 15, 17, 18, 19, 20, 25, 27, 28, 29, 32, 33]),\n",
       " array([2, 1, 1, 1, 1, 1, 2, 1, 1, 2, 3, 1, 1, 2, 1, 2, 1]))"
      ]
     },
     "execution_count": null,
     "metadata": {},
     "output_type": "execute_result"
    }
   ],
   "source": [
    "np.where(rt.map(lambda x: x == ''))"
   ]
  },
  {
   "cell_type": "markdown",
   "id": "9868bfe6-6c4d-49cd-b348-3859b83c255c",
   "metadata": {},
   "source": [
    "### Noting down empty values"
   ]
  },
  {
   "cell_type": "code",
   "execution_count": null,
   "id": "0f2d6b3e-4bc4-4ade-8d74-3ed161c90743",
   "metadata": {},
   "outputs": [
    {
     "data": {
      "text/plain": [
       "1     21\n",
       "6     12\n",
       "11    20\n",
       "14    14\n",
       "15     3\n",
       "17    18\n",
       "18    11\n",
       "25     8\n",
       "27     7\n",
       "29    13\n",
       "33    10\n",
       "Name: ID, dtype: object"
      ]
     },
     "execution_count": null,
     "metadata": {},
     "output_type": "execute_result"
    }
   ],
   "source": [
    "rt[rt['rTaxon'] == '']['ID']"
   ]
  },
  {
   "cell_type": "code",
   "execution_count": null,
   "id": "6ee16168-597f-4a29-94e9-7d3f5ff2a093",
   "metadata": {},
   "outputs": [
    {
     "data": {
      "text/plain": [
       "0     28\n",
       "15     3\n",
       "19     2\n",
       "28    30\n",
       "32    17\n",
       "Name: ID, dtype: object"
      ]
     },
     "execution_count": null,
     "metadata": {},
     "output_type": "execute_result"
    }
   ],
   "source": [
    "rt[rt['rCollector'] == '']['ID']"
   ]
  },
  {
   "cell_type": "code",
   "execution_count": null,
   "id": "9216c99c-f8ac-4d98-99bb-c91f67e8c519",
   "metadata": {},
   "outputs": [
    {
     "data": {
      "text/plain": [
       "20    29\n",
       "Name: ID, dtype: object"
      ]
     },
     "execution_count": null,
     "metadata": {},
     "output_type": "execute_result"
    }
   ],
   "source": [
    "rt[rt['rGeography'] == '']['ID']"
   ]
  },
  {
   "cell_type": "code",
   "execution_count": null,
   "id": "f6cc9562-fb3e-4737-bf53-0b83922f6bf0",
   "metadata": {},
   "outputs": [
    {
     "data": {
      "text/html": [
       "<div>\n",
       "<style scoped>\n",
       "    .dataframe tbody tr th:only-of-type {\n",
       "        vertical-align: middle;\n",
       "    }\n",
       "\n",
       "    .dataframe tbody tr th {\n",
       "        vertical-align: top;\n",
       "    }\n",
       "\n",
       "    .dataframe thead th {\n",
       "        text-align: right;\n",
       "    }\n",
       "</style>\n",
       "<table border=\"1\" class=\"dataframe\">\n",
       "  <thead>\n",
       "    <tr style=\"text-align: right;\">\n",
       "      <th></th>\n",
       "      <th>ID</th>\n",
       "      <th>rTaxon</th>\n",
       "      <th>rCollector</th>\n",
       "      <th>rGeography</th>\n",
       "    </tr>\n",
       "  </thead>\n",
       "  <tbody>\n",
       "    <tr>\n",
       "      <th>0</th>\n",
       "      <td>28</td>\n",
       "      <td>Pinus sibirica (Rupr.) Mayr.</td>\n",
       "      <td></td>\n",
       "      <td>Russia</td>\n",
       "    </tr>\n",
       "    <tr>\n",
       "      <th>1</th>\n",
       "      <td>21</td>\n",
       "      <td></td>\n",
       "      <td>С. Туманян</td>\n",
       "      <td>Kyrgyzstan</td>\n",
       "    </tr>\n",
       "    <tr>\n",
       "      <th>2</th>\n",
       "      <td>32</td>\n",
       "      <td>Pinus sylvestris L.</td>\n",
       "      <td>Н. Шведчикова</td>\n",
       "      <td>Russia</td>\n",
       "    </tr>\n",
       "    <tr>\n",
       "      <th>3</th>\n",
       "      <td>15</td>\n",
       "      <td>Rostraria cristata (L.) Tzvelev</td>\n",
       "      <td>A. Seregin</td>\n",
       "      <td>Greece</td>\n",
       "    </tr>\n",
       "    <tr>\n",
       "      <th>4</th>\n",
       "      <td>25</td>\n",
       "      <td>Pinus pumila (Pall) Regel</td>\n",
       "      <td>G. I. Karev</td>\n",
       "      <td>Russia</td>\n",
       "    </tr>\n",
       "  </tbody>\n",
       "</table>\n",
       "</div>"
      ],
      "text/plain": [
       "   ID                           rTaxon     rCollector  rGeography\n",
       "0  28     Pinus sibirica (Rupr.) Mayr.                     Russia\n",
       "1  21                                      С. Туманян  Kyrgyzstan\n",
       "2  32              Pinus sylvestris L.  Н. Шведчикова      Russia\n",
       "3  15  Rostraria cristata (L.) Tzvelev     A. Seregin      Greece\n",
       "4  25        Pinus pumila (Pall) Regel    G. I. Karev      Russia"
      ]
     },
     "execution_count": null,
     "metadata": {},
     "output_type": "execute_result"
    }
   ],
   "source": [
    "rt.head()"
   ]
  },
  {
   "cell_type": "markdown",
   "id": "5028a755-226e-4e83-84eb-aee9aeeb9fb7",
   "metadata": {},
   "source": [
    "## Comparison with Ground Truth Labels"
   ]
  },
  {
   "cell_type": "markdown",
   "id": "7f3c3067-b4f6-42de-b287-3493971b4531",
   "metadata": {},
   "source": [
    "### Creating a combined Dataframe for easy comparison between columns"
   ]
  },
  {
   "cell_type": "code",
   "execution_count": null,
   "id": "a47470c9-2207-4d86-8017-4543caa86c33",
   "metadata": {},
   "outputs": [],
   "source": [
    "rt['ID'] = rt['ID'].astype(str).astype(int)"
   ]
  },
  {
   "cell_type": "code",
   "execution_count": null,
   "id": "3c2bfe69-4743-43ce-94ac-d3e3376aa3c2",
   "metadata": {},
   "outputs": [],
   "source": [
    "new_df = (pd.merge(gt, rt[['ID','rTaxon','rCollector','rGeography']], on='ID'))"
   ]
  },
  {
   "cell_type": "code",
   "execution_count": null,
   "id": "423ce9cd-11fb-47c8-9daa-31e4a647db3c",
   "metadata": {},
   "outputs": [
    {
     "data": {
      "text/html": [
       "<div>\n",
       "<style scoped>\n",
       "    .dataframe tbody tr th:only-of-type {\n",
       "        vertical-align: middle;\n",
       "    }\n",
       "\n",
       "    .dataframe tbody tr th {\n",
       "        vertical-align: top;\n",
       "    }\n",
       "\n",
       "    .dataframe thead th {\n",
       "        text-align: right;\n",
       "    }\n",
       "</style>\n",
       "<table border=\"1\" class=\"dataframe\">\n",
       "  <thead>\n",
       "    <tr style=\"text-align: right;\">\n",
       "      <th></th>\n",
       "      <th>ID</th>\n",
       "      <th>Handwritten</th>\n",
       "      <th>Barcode</th>\n",
       "      <th>Taxon</th>\n",
       "      <th>Geography</th>\n",
       "      <th>Collector</th>\n",
       "      <th>eventDate</th>\n",
       "      <th>Label text (georgraphy and ecology)</th>\n",
       "      <th>rTaxon</th>\n",
       "      <th>rCollector</th>\n",
       "      <th>rGeography</th>\n",
       "    </tr>\n",
       "  </thead>\n",
       "  <tbody>\n",
       "    <tr>\n",
       "      <th>0</th>\n",
       "      <td>1</td>\n",
       "      <td>No</td>\n",
       "      <td>MW0464618</td>\n",
       "      <td>ledum palustre l.</td>\n",
       "      <td>russia</td>\n",
       "      <td>вехов в.н.</td>\n",
       "      <td>1983-07-06</td>\n",
       "      <td>Карелия, Ругозерская губа Кандалакшского залив...</td>\n",
       "      <td>Ledum palustre L.</td>\n",
       "      <td>Вехов В.Н.</td>\n",
       "      <td>Russia</td>\n",
       "    </tr>\n",
       "    <tr>\n",
       "      <th>1</th>\n",
       "      <td>2</td>\n",
       "      <td>Yes</td>\n",
       "      <td>MW0001412</td>\n",
       "      <td>pinus funebris kom.</td>\n",
       "      <td>russia</td>\n",
       "      <td>в. комаров</td>\n",
       "      <td>1930-09-07</td>\n",
       "      <td>г. Никольск-Уссурийский, долина р. Супутинки. ...</td>\n",
       "      <td>Pinus fundbais uma</td>\n",
       "      <td></td>\n",
       "      <td>Russia</td>\n",
       "    </tr>\n",
       "    <tr>\n",
       "      <th>2</th>\n",
       "      <td>3</td>\n",
       "      <td>Yes</td>\n",
       "      <td>MW0001364</td>\n",
       "      <td>pinus pumila rgl.\\r</td>\n",
       "      <td>russia</td>\n",
       "      <td>в. куваев</td>\n",
       "      <td>1951-07-15</td>\n",
       "      <td>о. 6. Томп. Верх. хр. горы, лиственничная тайг...</td>\n",
       "      <td></td>\n",
       "      <td></td>\n",
       "      <td>Russia</td>\n",
       "    </tr>\n",
       "    <tr>\n",
       "      <th>3</th>\n",
       "      <td>4</td>\n",
       "      <td>Yes</td>\n",
       "      <td>MW0001309</td>\n",
       "      <td>pinus pumila (pall.) regl.\\r</td>\n",
       "      <td>russia</td>\n",
       "      <td>\\tкарев г.и.</td>\n",
       "      <td>1930-0626</td>\n",
       "      <td>Камчатка. Козыревский совхоз = урочище Среднек...</td>\n",
       "      <td>Pinus pumila (Pallas) Regel</td>\n",
       "      <td>Г. И. Карев</td>\n",
       "      <td>Russia</td>\n",
       "    </tr>\n",
       "    <tr>\n",
       "      <th>4</th>\n",
       "      <td>5</td>\n",
       "      <td>Yes</td>\n",
       "      <td>MW0001310</td>\n",
       "      <td>pinus pumila rgl.</td>\n",
       "      <td>russia</td>\n",
       "      <td>в. комаров</td>\n",
       "      <td>1909-10-10</td>\n",
       "      <td>Камчатка. У Петропавловска на Петровской горе</td>\n",
       "      <td>Pinus pumila</td>\n",
       "      <td>V. Komarov</td>\n",
       "      <td>Russia</td>\n",
       "    </tr>\n",
       "  </tbody>\n",
       "</table>\n",
       "</div>"
      ],
      "text/plain": [
       "   ID Handwritten   Barcode                          Taxon Geography  \\\n",
       "0   1          No  MW0464618             ledum palustre l.    russia   \n",
       "1   2         Yes  MW0001412           pinus funebris kom.    russia   \n",
       "2   3         Yes  MW0001364           pinus pumila rgl.\\r    russia   \n",
       "3   4         Yes  MW0001309  pinus pumila (pall.) regl.\\r    russia   \n",
       "4   5         Yes  MW0001310             pinus pumila rgl.    russia   \n",
       "\n",
       "           Collector   eventDate  \\\n",
       "0         вехов в.н.  1983-07-06   \n",
       "1         в. комаров  1930-09-07   \n",
       "2          в. куваев  1951-07-15   \n",
       "3       \\tкарев г.и.   1930-0626   \n",
       "4         в. комаров  1909-10-10   \n",
       "\n",
       "                 Label text (georgraphy and ecology)  \\\n",
       "0  Карелия, Ругозерская губа Кандалакшского залив...   \n",
       "1  г. Никольск-Уссурийский, долина р. Супутинки. ...   \n",
       "2  о. 6. Томп. Верх. хр. горы, лиственничная тайг...   \n",
       "3  Камчатка. Козыревский совхоз = урочище Среднек...   \n",
       "4      Камчатка. У Петропавловска на Петровской горе   \n",
       "\n",
       "                        rTaxon   rCollector rGeography  \n",
       "0            Ledum palustre L.   Вехов В.Н.     Russia  \n",
       "1           Pinus fundbais uma                  Russia  \n",
       "2                                               Russia  \n",
       "3  Pinus pumila (Pallas) Regel  Г. И. Карев     Russia  \n",
       "4                 Pinus pumila   V. Komarov     Russia  "
      ]
     },
     "execution_count": null,
     "metadata": {},
     "output_type": "execute_result"
    }
   ],
   "source": [
    "new_df.head()"
   ]
  },
  {
   "cell_type": "code",
   "execution_count": null,
   "id": "0e9976fb-25d4-467e-8821-6a1c86c6b6de",
   "metadata": {},
   "outputs": [
    {
     "data": {
      "text/plain": [
       "(array([], dtype=int64), array([], dtype=int64))"
      ]
     },
     "execution_count": null,
     "metadata": {},
     "output_type": "execute_result"
    }
   ],
   "source": [
    "np.where(pd.isnull(new_df))"
   ]
  },
  {
   "cell_type": "code",
   "execution_count": null,
   "id": "e9680662-2bf0-404d-915e-413855edaf5a",
   "metadata": {},
   "outputs": [
    {
     "data": {
      "text/plain": [
       "(array([ 1,  2,  2,  6,  6,  7,  9,  9, 10, 11, 12, 12, 13, 13, 16, 16, 17,\n",
       "        17, 19, 20, 27, 28, 29]),\n",
       " array([ 9,  8,  9,  3,  8,  8,  3,  8,  8,  8,  3,  8,  3,  8,  6,  9,  3,\n",
       "         8,  8,  8,  9, 10,  9]))"
      ]
     },
     "execution_count": null,
     "metadata": {},
     "output_type": "execute_result"
    }
   ],
   "source": [
    "np.where(new_df.map(lambda x: x == ''))"
   ]
  },
  {
   "cell_type": "markdown",
   "id": "c8b39695-9fe1-4f29-a3b0-178d66323414",
   "metadata": {},
   "source": [
    "#### Observed variations in the word USA - so converting all variations to the standard of Ground Truth label"
   ]
  },
  {
   "cell_type": "code",
   "execution_count": null,
   "id": "2126f4c8-a3d5-4194-9547-b7eac2febcb0",
   "metadata": {},
   "outputs": [],
   "source": [
    "##Replacing all USA variations with one label\n",
    "\n",
    "# for i in new_df['rGeography']:\n",
    "#     if i==\"USA\" in i or \"United States\" in i:\n",
    "\n",
    "new_df['rGeography'] = new_df['rGeography'].apply(lambda i: \"united states of america\" if i.lower() in [\"usa\",\"united states\",\"us\"] else i)"
   ]
  },
  {
   "cell_type": "code",
   "execution_count": null,
   "id": "a142e5b8-aadc-4f6d-81c2-a0a0c42016fa",
   "metadata": {},
   "outputs": [],
   "source": [
    "p = re.compile(r'[^\\s\\w]+')\n",
    "\n",
    "for i in new_df[['Taxon']]:\n",
    "    if i==\"ID\":\n",
    "        continue\n",
    "    new_df[i] = new_df[i].str.lower()\n",
    "    # print(new_df[i].tolist())\n",
    "    # new_df[i] = [p.sub('', x) for x in new_df[i].tolist()]\n",
    "    # print(new_df[i])"
   ]
  },
  {
   "cell_type": "markdown",
   "id": "afed47b1-42fc-4c8c-8a59-2c0b48cab2e2",
   "metadata": {},
   "source": [
    "Note : We were unable to complete removal of punctuation from the samples since the regex library had difficulty processing Cyrillic characters - we will explore more ways to preprocess Cyrillic data"
   ]
  },
  {
   "cell_type": "markdown",
   "id": "e5acc560-59e8-4743-a445-1fe6c16aec46",
   "metadata": {},
   "source": [
    "## Taxon Metrics"
   ]
  },
  {
   "cell_type": "markdown",
   "id": "1ee8b0c4-84b3-4ee0-87b6-ae8e38ea8a99",
   "metadata": {},
   "source": [
    "### 1. Accuracy"
   ]
  },
  {
   "cell_type": "code",
   "execution_count": null,
   "id": "eab083af-5232-44da-a936-dd3eb2933268",
   "metadata": {},
   "outputs": [],
   "source": [
    "#Taxon accuracy - count as 1 only if ground truth label is present as is in extracted label\n",
    "c=0\n",
    "for index, row in new_df.iterrows():\n",
    "    # print(row)\n",
    "    if pd.isna(row['Taxon']):\n",
    "        continue\n",
    "    if row['Taxon'].lower() in row['rTaxon'].lower():\n",
    "        c+=1"
   ]
  },
  {
   "cell_type": "code",
   "execution_count": null,
   "id": "e418c60c-750d-4f10-9294-639db295ea05",
   "metadata": {},
   "outputs": [
    {
     "name": "stdout",
     "output_type": "stream",
     "text": [
      "15\n"
     ]
    }
   ],
   "source": [
    "print(c)"
   ]
  },
  {
   "cell_type": "code",
   "execution_count": null,
   "id": "2aa6527b-7d57-425c-b732-5cb28afff52a",
   "metadata": {},
   "outputs": [
    {
     "name": "stdout",
     "output_type": "stream",
     "text": [
      "Accuracy obtained : 42.857142857142854%\n"
     ]
    }
   ],
   "source": [
    "acc = c/len(new_df)*100\n",
    "print(f\"Accuracy obtained : {acc}%\")"
   ]
  },
  {
   "cell_type": "code",
   "execution_count": null,
   "id": "99201349-032b-4b6e-a13b-4d1675e69f66",
   "metadata": {},
   "outputs": [],
   "source": [
    "# Approach 2 : count as 1 if any word in ground truth label is present in extracted label\n",
    "\n",
    "c=0\n",
    "for index, row in new_df.iterrows():\n",
    "    if pd.isna(row['Taxon']):\n",
    "        continue\n",
    "    if any(x in row['rTaxon'].lower() for x in row['Taxon'].lower().split()):\n",
    "        c+=1"
   ]
  },
  {
   "cell_type": "code",
   "execution_count": null,
   "id": "f49411e0-5314-4af1-87e9-543d77612dde",
   "metadata": {},
   "outputs": [
    {
     "name": "stdout",
     "output_type": "stream",
     "text": [
      "Accuracy obtained : 57.14285714285714%\n"
     ]
    }
   ],
   "source": [
    "acc = c/len(new_df)*100\n",
    "print(f\"Accuracy obtained : {acc}%\")"
   ]
  },
  {
   "cell_type": "code",
   "execution_count": null,
   "id": "807b1cdf-48d0-4eb5-a22d-44b32e81c2b1",
   "metadata": {},
   "outputs": [],
   "source": [
    "# Approach 3 : count as 1 if all words in ground truth label is present in extracted label (need not be in order)\n",
    "\n",
    "c=0\n",
    "for index, row in new_df.iterrows():\n",
    "    if pd.isna(row['Taxon']):\n",
    "        continue\n",
    "    if(set(row['Taxon'].lower().split()).issubset(set(row['rTaxon'].lower().split()))):\n",
    "        c+=1"
   ]
  },
  {
   "cell_type": "code",
   "execution_count": null,
   "id": "b77bc03b-4d89-454f-bc28-ca46fbe3833e",
   "metadata": {},
   "outputs": [
    {
     "name": "stdout",
     "output_type": "stream",
     "text": [
      "15\n"
     ]
    }
   ],
   "source": [
    "print(c)"
   ]
  },
  {
   "cell_type": "code",
   "execution_count": null,
   "id": "1ab286eb-b3a2-47b9-9203-c3a475f26f47",
   "metadata": {},
   "outputs": [
    {
     "name": "stdout",
     "output_type": "stream",
     "text": [
      "Accuracy obtained : 42.857142857142854%\n"
     ]
    }
   ],
   "source": [
    "acc = c/len(new_df)*100\n",
    "print(f\"Accuracy obtained : {acc}%\")"
   ]
  },
  {
   "cell_type": "markdown",
   "id": "6d0c39f1-7dd8-4ca3-b662-cd10642acea4",
   "metadata": {},
   "source": [
    "## 2. Extended Approach : Utilizing TaxoNERD and Cosine Similarity for predicting closest taxons"
   ]
  },
  {
   "cell_type": "code",
   "execution_count": null,
   "id": "02deceb5-f93a-4862-a47c-34c3cb08f497",
   "metadata": {},
   "outputs": [
    {
     "name": "stdout",
     "output_type": "stream",
     "text": [
      "huggingface/tokenizers: The current process just got forked, after parallelism has already been used. Disabling parallelism to avoid deadlocks...\n",
      "To disable this warning, you can either:\n",
      "\t- Avoid using `tokenizers` before the fork if possible\n",
      "\t- Explicitly set the environment variable TOKENIZERS_PARALLELISM=(true | false)\n",
      "Sat Dec  9 23:21:10 2023       \n",
      "+---------------------------------------------------------------------------------------+\n",
      "| NVIDIA-SMI 535.129.03             Driver Version: 535.129.03   CUDA Version: 12.2     |\n",
      "|-----------------------------------------+----------------------+----------------------+\n",
      "| GPU  Name                 Persistence-M | Bus-Id        Disp.A | Volatile Uncorr. ECC |\n",
      "| Fan  Temp   Perf          Pwr:Usage/Cap |         Memory-Usage | GPU-Util  Compute M. |\n",
      "|                                         |                      |               MIG M. |\n",
      "|=========================================+======================+======================|\n",
      "|   0  Tesla V100-SXM2-16GB           On  | 00000000:18:00.0 Off |                    0 |\n",
      "| N/A   44C    P0              53W / 300W |      0MiB / 16384MiB |      0%   E. Process |\n",
      "|                                         |                      |                  N/A |\n",
      "+-----------------------------------------+----------------------+----------------------+\n",
      "|   1  Tesla V100-SXM2-16GB           On  | 00000000:3B:00.0 Off |                    0 |\n",
      "| N/A   38C    P0              44W / 300W |      0MiB / 16384MiB |      0%   E. Process |\n",
      "|                                         |                      |                  N/A |\n",
      "+-----------------------------------------+----------------------+----------------------+\n",
      "|   2  Tesla V100-SXM2-16GB           On  | 00000000:86:00.0 Off |                    0 |\n",
      "| N/A   38C    P0              43W / 300W |      3MiB / 16384MiB |      0%   E. Process |\n",
      "|                                         |                      |                  N/A |\n",
      "+-----------------------------------------+----------------------+----------------------+\n",
      "|   3  Tesla V100-SXM2-16GB           On  | 00000000:AF:00.0 Off |                    0 |\n",
      "| N/A   42C    P0              45W / 300W |      0MiB / 16384MiB |      0%   E. Process |\n",
      "|                                         |                      |                  N/A |\n",
      "+-----------------------------------------+----------------------+----------------------+\n",
      "                                                                                         \n",
      "+---------------------------------------------------------------------------------------+\n",
      "| Processes:                                                                            |\n",
      "|  GPU   GI   CI        PID   Type   Process name                            GPU Memory |\n",
      "|        ID   ID                                                             Usage      |\n",
      "|=======================================================================================|\n",
      "|  No running processes found                                                           |\n",
      "+---------------------------------------------------------------------------------------+\n"
     ]
    }
   ],
   "source": [
    "! nvidia-smi"
   ]
  },
  {
   "cell_type": "code",
   "execution_count": null,
   "id": "e54ed4e1-7538-4a10-aa56-cd5e24a119be",
   "metadata": {},
   "outputs": [],
   "source": [
    "taxonerd = TaxoNERD(prefer_gpu=False) # set to \"true\" if GPU is accessible"
   ]
  },
  {
   "cell_type": "code",
   "execution_count": null,
   "id": "55303f73-0846-4bc2-a250-fe2d80f9490d",
   "metadata": {},
   "outputs": [],
   "source": [
    "#| export\n",
    "# utility functions for finding cosine similarity\n",
    "\n",
    "def word2vec(word):\n",
    "    from collections import Counter\n",
    "    from math import sqrt\n",
    "    \n",
    "    # count the characters in word\n",
    "    # print(word)\n",
    "    cw = Counter(word)\n",
    "    # precomputes a set of the different characters\n",
    "    sw = set(cw)\n",
    "    # precomputes the \"length\" of the word vector\n",
    "    lw = sqrt(sum(c*c for c in cw.values()))\n",
    "\n",
    "    # return a tuple\n",
    "    return cw, sw, lw\n",
    "\n",
    "def cosdis(v1, v2):\n",
    "    # which characters are common to the two words?\n",
    "    common = v1[1].intersection(v2[1])\n",
    "    # by definition of cosine distance we have\n",
    "    return sum(v1[0][ch]*v2[0][ch] for ch in common)/v1[2]/v2[2]"
   ]
  },
  {
   "cell_type": "code",
   "execution_count": null,
   "id": "5f06e286-faf5-4282-9d6a-efd0482c86da",
   "metadata": {},
   "outputs": [],
   "source": [
    "taxon_output = []\n",
    "confidence_output = []\n",
    "\n",
    "nlp = taxonerd.load(\n",
    "    model=\"en_core_eco_biobert\", \n",
    "    linker=\"gbif_backbone\", \n",
    "    threshold=0\n",
    ")"
   ]
  },
  {
   "cell_type": "code",
   "execution_count": null,
   "id": "595e81da-429d-494e-9232-218bf75bffc9",
   "metadata": {},
   "outputs": [
    {
     "name": "stderr",
     "output_type": "stream",
     "text": [
      "100%|██████████| 35/35 [00:24<00:00,  1.41it/s]\n"
     ]
    }
   ],
   "source": [
    "# predict taxons for text detected from each image\n",
    "for index, row in tqdm(new_df.iterrows(), total=new_df.shape[0]):\n",
    "    temp = row[\"rTaxon\"]\n",
    "\n",
    "    # construct a single string out of all the detected text\n",
    "    input_text = temp\n",
    "    doc = taxonerd.find_in_text(input_text)\n",
    "\n",
    "    try:\n",
    "        # append linked taxon entity and confidence\n",
    "        taxon_output.append(str(doc.entity[0][0][1]))\n",
    "        confidence_output.append(float(doc.entity[0][0][2]))\n",
    "\n",
    "    except AttributeError:\n",
    "        # append empty strings when no entity is detected\n",
    "        taxon_output.append(\"\")\n",
    "        confidence_output.append(float(0))"
   ]
  },
  {
   "cell_type": "code",
   "execution_count": null,
   "id": "1e57cfd1-9ef0-425e-9bdc-d7df4f3cb27f",
   "metadata": {},
   "outputs": [],
   "source": [
    "# append predicted taxon and confidence scores to the dataframe\n",
    "new_df[\"Taxon_pred_Output\"] = taxon_output\n",
    "new_df[\"Taxon_Confidence_Output\"] = confidence_output"
   ]
  },
  {
   "cell_type": "code",
   "execution_count": null,
   "id": "e75c1d86-36a9-4b53-af59-fdc34cd2c4a1",
   "metadata": {},
   "outputs": [],
   "source": [
    "# array to store computed similarity scores\n",
    "cosine_sim = []\n",
    "\n",
    "for index, row in new_df.iterrows():\n",
    "\n",
    "    # extract image name from the dataframe\n",
    "    # img_name = row[\"ID\"]\n",
    "    # if pd.isna(row['Taxon']):\n",
    "    #     continue\n",
    "    taxon_predicted = row[\"Taxon_pred_Output\"]\n",
    "    taxon_gt = row[\"Taxon\"]\n",
    "\n",
    "    # compute cosine similarity between the predicted taxon and ground truth\n",
    "    try:\n",
    "        sim = cosdis(word2vec(taxon_gt), word2vec(taxon_predicted))\n",
    "        cosine_sim.append(sim)\n",
    "        # print(taxon_gt, taxon_predicted, sim)\n",
    "\n",
    "    except ZeroDivisionError:\n",
    "        cosine_sim.append(0)\n",
    "        # print(taxon_gt, taxon_predicted,\"0\")\n",
    "\n",
    "# append similarity scores to the dataframe\n",
    "new_df[\"Cosine_Similarity\"] = cosine_sim"
   ]
  },
  {
   "cell_type": "code",
   "execution_count": null,
   "id": "a230d641-2757-47e0-8200-24571e514db7",
   "metadata": {},
   "outputs": [
    {
     "data": {
      "text/html": [
       "<div>\n",
       "<style scoped>\n",
       "    .dataframe tbody tr th:only-of-type {\n",
       "        vertical-align: middle;\n",
       "    }\n",
       "\n",
       "    .dataframe tbody tr th {\n",
       "        vertical-align: top;\n",
       "    }\n",
       "\n",
       "    .dataframe thead th {\n",
       "        text-align: right;\n",
       "    }\n",
       "</style>\n",
       "<table border=\"1\" class=\"dataframe\">\n",
       "  <thead>\n",
       "    <tr style=\"text-align: right;\">\n",
       "      <th></th>\n",
       "      <th>Confidence_Threshold</th>\n",
       "      <th>Taxons_Predicted</th>\n",
       "      <th>Taxons_Accuracy_Predicted</th>\n",
       "    </tr>\n",
       "  </thead>\n",
       "  <tbody>\n",
       "    <tr>\n",
       "      <th>0</th>\n",
       "      <td>0.0</td>\n",
       "      <td>13.0</td>\n",
       "      <td>0.590909</td>\n",
       "    </tr>\n",
       "    <tr>\n",
       "      <th>1</th>\n",
       "      <td>0.1</td>\n",
       "      <td>13.0</td>\n",
       "      <td>0.590909</td>\n",
       "    </tr>\n",
       "    <tr>\n",
       "      <th>2</th>\n",
       "      <td>0.2</td>\n",
       "      <td>13.0</td>\n",
       "      <td>0.590909</td>\n",
       "    </tr>\n",
       "    <tr>\n",
       "      <th>3</th>\n",
       "      <td>0.3</td>\n",
       "      <td>13.0</td>\n",
       "      <td>0.590909</td>\n",
       "    </tr>\n",
       "    <tr>\n",
       "      <th>4</th>\n",
       "      <td>0.4</td>\n",
       "      <td>13.0</td>\n",
       "      <td>0.590909</td>\n",
       "    </tr>\n",
       "    <tr>\n",
       "      <th>5</th>\n",
       "      <td>0.5</td>\n",
       "      <td>13.0</td>\n",
       "      <td>0.619048</td>\n",
       "    </tr>\n",
       "    <tr>\n",
       "      <th>6</th>\n",
       "      <td>0.6</td>\n",
       "      <td>13.0</td>\n",
       "      <td>0.619048</td>\n",
       "    </tr>\n",
       "    <tr>\n",
       "      <th>7</th>\n",
       "      <td>0.7</td>\n",
       "      <td>12.0</td>\n",
       "      <td>0.666667</td>\n",
       "    </tr>\n",
       "    <tr>\n",
       "      <th>8</th>\n",
       "      <td>0.8</td>\n",
       "      <td>12.0</td>\n",
       "      <td>0.750000</td>\n",
       "    </tr>\n",
       "    <tr>\n",
       "      <th>9</th>\n",
       "      <td>0.9</td>\n",
       "      <td>11.0</td>\n",
       "      <td>0.733333</td>\n",
       "    </tr>\n",
       "  </tbody>\n",
       "</table>\n",
       "</div>"
      ],
      "text/plain": [
       "   Confidence_Threshold  Taxons_Predicted  Taxons_Accuracy_Predicted\n",
       "0                   0.0              13.0                   0.590909\n",
       "1                   0.1              13.0                   0.590909\n",
       "2                   0.2              13.0                   0.590909\n",
       "3                   0.3              13.0                   0.590909\n",
       "4                   0.4              13.0                   0.590909\n",
       "5                   0.5              13.0                   0.619048\n",
       "6                   0.6              13.0                   0.619048\n",
       "7                   0.7              12.0                   0.666667\n",
       "8                   0.8              12.0                   0.750000\n",
       "9                   0.9              11.0                   0.733333"
      ]
     },
     "metadata": {},
     "output_type": "display_data"
    }
   ],
   "source": [
    "final_taxon_prediction = pd.DataFrame(columns=[\"Confidence_Threshold\", \"Taxons_Predicted\", \"Taxons_Accuracy_Predicted\"])\n",
    "temp_df = pd.DataFrame()\n",
    "\n",
    "# generate list of similarity thresholds\n",
    "# sim_threshold = [0.9]\n",
    "sim_threshold =0.8\n",
    "\n",
    "# generate list of confidence thresholds\n",
    "confidence_threshold = np.arange(0, 1, 0.1)\n",
    "\n",
    "# compute prediction accuracy at each confidence threshold\n",
    "for conf_threshold in confidence_threshold:\n",
    "    \n",
    "    temp_df = new_df[(new_df[\"Taxon_Confidence_Output\"] > conf_threshold)]\n",
    "    \n",
    "    acc_count = (temp_df[\"Cosine_Similarity\"] > sim_threshold).sum()\n",
    "\n",
    "    acc_val = acc_count/len(temp_df)\n",
    "\n",
    "    temp = [conf_threshold, acc_count, acc_val]\n",
    "    final_taxon_prediction.loc[len(final_taxon_prediction)] = temp\n",
    "\n",
    "display(final_taxon_prediction)"
   ]
  },
  {
   "cell_type": "markdown",
   "id": "39f242d6-f9e1-4efc-9df6-dd0eab84680d",
   "metadata": {},
   "source": [
    "Note : Adapted from Spring semester trocr-test notebook\n",
    "\n",
    "1. We first obtain the taxon predictions with a confidence score for each taxon.\n",
    "2. We then compute cosine similarities of the predicted taxons with the ground truth taxons.\n",
    "3. We then, at each interval of the confidence threashold, compute number of taxons that have a high cosine similarity with the ground truth. The scores above are computed for a specific cosine similarity score \">0.8\". We need to perform this step because, the taxons are matched against entries from the ncbi_taxonomy database (as part of TaxoNERD) and, the predicted taxon might not exactly match the ground truth and we are accounting for this using cosine similarity.\n",
    "4. We can try to use the GBIF database to predict taxons and also experiment with different thresholds for the cosine similarity scores. But, in general, the chosen cosine similarity threshold offers an incremental performance upgrade compared to the last semester's work\n",
    "5. Our highest Accuracy = 78.9% compared to Spring semester = 71.7% "
   ]
  },
  {
   "cell_type": "markdown",
   "id": "cbcb820e-32d7-4008-8e86-0801b0b412cc",
   "metadata": {},
   "source": [
    "## Collector Metrics\n",
    "\n",
    "### 1. Accuracy"
   ]
  },
  {
   "cell_type": "code",
   "execution_count": null,
   "id": "80a077c7-3470-47cb-ab11-69ca0c03fa88",
   "metadata": {},
   "outputs": [],
   "source": [
    "#Approach 1 - count as 1 only if ground truth label is present as is in extracted label\n",
    "c=0\n",
    "for index, row in new_df.iterrows():\n",
    "    if row['Collector'].lower() in row['rCollector'].lower():\n",
    "        c+=1"
   ]
  },
  {
   "cell_type": "code",
   "execution_count": null,
   "id": "1a82c6d5-d1ae-44ea-b2b0-6c176c207858",
   "metadata": {},
   "outputs": [
    {
     "name": "stdout",
     "output_type": "stream",
     "text": [
      "Accuracy obtained : 8.571428571428571%\n"
     ]
    }
   ],
   "source": [
    "acc = c/len(new_df)*100\n",
    "print(f\"Accuracy obtained : {acc}%\")"
   ]
  },
  {
   "cell_type": "code",
   "execution_count": null,
   "id": "9b0b3928-364b-4a9f-96e7-e1bb65cfdf16",
   "metadata": {},
   "outputs": [],
   "source": [
    "# Approach 2 : count as 1 if any word in ground truth label is present in extracted label\n",
    "\n",
    "c=0\n",
    "for index, row in new_df.iterrows():\n",
    "    if any(x in row['rCollector'].lower() for x in row['Collector'].lower().split()):\n",
    "        # print(row['Collector'].lower(), row['rCollector'].lower())\n",
    "        c+=1"
   ]
  },
  {
   "cell_type": "code",
   "execution_count": null,
   "id": "6adffedb-a588-4a24-807e-017f86d58077",
   "metadata": {},
   "outputs": [
    {
     "name": "stdout",
     "output_type": "stream",
     "text": [
      "Accuracy obtained : 51.42857142857142%\n"
     ]
    }
   ],
   "source": [
    "acc = c/len(new_df)*100\n",
    "print(f\"Accuracy obtained : {acc}%\")"
   ]
  },
  {
   "cell_type": "code",
   "execution_count": null,
   "id": "80245443-50b8-4902-b726-99724771f0ea",
   "metadata": {},
   "outputs": [],
   "source": [
    "# Approach 3 : count as 1 if all words in ground truth label is present in extracted label (need not be in order)\n",
    "\n",
    "c=0\n",
    "for index, row in new_df.iterrows():\n",
    "    if(set(row['Collector'].lower().split()).issubset(set(row['rCollector'].lower().split()))):\n",
    "        c+=1"
   ]
  },
  {
   "cell_type": "code",
   "execution_count": null,
   "id": "8c5542b8-7a09-4c68-876d-d8367e34a59c",
   "metadata": {},
   "outputs": [
    {
     "name": "stdout",
     "output_type": "stream",
     "text": [
      "Accuracy obtained : 14.285714285714285%\n"
     ]
    }
   ],
   "source": [
    "acc = c/len(new_df)*100\n",
    "print(f\"Accuracy obtained : {acc}%\")"
   ]
  },
  {
   "cell_type": "markdown",
   "id": "c5e48ec8-efe9-4288-89cb-b1e95f8b33fe",
   "metadata": {},
   "source": [
    "## Geography Metrics\n",
    "\n",
    "### 1. Accuracy"
   ]
  },
  {
   "cell_type": "code",
   "execution_count": null,
   "id": "bd929e1e-9af8-42ac-8edd-9f633dccc9e1",
   "metadata": {},
   "outputs": [],
   "source": [
    "#Approach 1 - count as 1 only if ground truth label is present as is in extracted label\n",
    "c=0\n",
    "for index, row in new_df.iterrows():\n",
    "    \n",
    "    if row['Geography'].lower() in row['rGeography'].lower():\n",
    "        # print(row['Geography'].lower(), row['rGeography'].lower())\n",
    "        c+=1"
   ]
  },
  {
   "cell_type": "code",
   "execution_count": null,
   "id": "aa790f8d-6489-40df-a8f2-65ae37748c17",
   "metadata": {},
   "outputs": [
    {
     "name": "stdout",
     "output_type": "stream",
     "text": [
      "Accuracy obtained : 97.14285714285714%\n"
     ]
    }
   ],
   "source": [
    "acc = c/len(new_df)*100\n",
    "print(f\"Accuracy obtained : {acc}%\")"
   ]
  },
  {
   "cell_type": "code",
   "execution_count": null,
   "id": "9830087a-6127-48fd-81c4-26753dac129f",
   "metadata": {},
   "outputs": [],
   "source": [
    "# Approach 2 : count as 1 if any word in ground truth label is present in extracted label\n",
    "\n",
    "c=0\n",
    "for index, row in new_df.iterrows():\n",
    "    if any(x in row['rGeography'].lower() for x in row['Geography'].lower().split()):\n",
    "        # print(row['Geography'], row['rGeography'])\n",
    "        c+=1"
   ]
  },
  {
   "cell_type": "code",
   "execution_count": null,
   "id": "fd268b88-376a-43ba-813a-8c9901525967",
   "metadata": {},
   "outputs": [
    {
     "name": "stdout",
     "output_type": "stream",
     "text": [
      "Accuracy obtained : 97.14285714285714%\n"
     ]
    }
   ],
   "source": [
    "acc = c/len(new_df)*100\n",
    "print(f\"Accuracy obtained : {acc}%\")"
   ]
  },
  {
   "cell_type": "code",
   "execution_count": null,
   "id": "4f61df42-11b2-4bfb-8fbf-a9841c2cabb2",
   "metadata": {},
   "outputs": [],
   "source": [
    "# Approach 3 : count as 1 if all words in ground truth label is present in extracted label (need not be in order)\n",
    "\n",
    "c=0\n",
    "for index, row in new_df.iterrows():\n",
    "    if(set(row['Geography'].lower().split()).issubset(set(row['rGeography'].lower().split()))):\n",
    "        c+=1"
   ]
  },
  {
   "cell_type": "code",
   "execution_count": null,
   "id": "633c8ace-3784-4edc-9e53-a171b6889ad3",
   "metadata": {},
   "outputs": [
    {
     "name": "stdout",
     "output_type": "stream",
     "text": [
      "Accuracy obtained : 97.14285714285714%\n"
     ]
    }
   ],
   "source": [
    "acc = c/len(new_df)*100\n",
    "print(f\"Accuracy obtained : {acc}%\")"
   ]
  },
  {
   "cell_type": "markdown",
   "id": "bd1e2287-a035-433e-a430-757510ae6633",
   "metadata": {},
   "source": [
    "## Visualizations"
   ]
  },
  {
   "cell_type": "code",
   "execution_count": null,
   "id": "b67e09a4-3b3d-474c-83bc-f9869bab388b",
   "metadata": {},
   "outputs": [
    {
     "data": {
      "image/png": "[encoded data removed]",
      "text/plain": [
       "<Figure size 640x480 with 1 Axes>"
      ]
     },
     "metadata": {},
     "output_type": "display_data"
    }
   ],
   "source": [
    "df_scores = pd.DataFrame({\n",
    "        'Labels Extracted': ['Geography', 'Taxon', 'Collector'],\n",
    "        'Accuracy (in %)': [97.14, 75.00, 51.43]\n",
    "})\n",
    "\n",
    "df_scores = df_scores.sort_values(['Accuracy (in %)'], ascending=False).reset_index(drop=True)\n",
    "# who v/s fare barplot \n",
    "palette=[\"#2ec4b6\",\"#ffbf69\",\"#fb6f92\"]\n",
    "ax = sns.barplot(x = 'Labels Extracted',\n",
    "            y = 'Accuracy (in %)',\n",
    "           data = df_scores,\n",
    "           hue = 'Labels Extracted',\n",
    "           palette=palette)\n",
    "\n",
    "for i in ax.containers:\n",
    "    ax.bar_label(i,)\n",
    "# Show the plot\n",
    "plt.show()"
   ]
  },
  {
   "cell_type": "markdown",
   "id": "003803fc-a50e-4c18-889c-0d55a9b724f1",
   "metadata": {},
   "source": [
    "## Appendix"
   ]
  },
  {
   "cell_type": "markdown",
   "id": "a7e697ee-1c92-44f9-960e-339bdf82f52a",
   "metadata": {},
   "source": [
    "#### Old Approach (Using entire Text) Metrics"
   ]
  },
  {
   "cell_type": "code",
   "execution_count": null,
   "id": "de335b85-f99c-428b-808a-2a1cd3ec79a4",
   "metadata": {},
   "outputs": [],
   "source": [
    "new_df['Text'] = [p.sub('', x).strip(\"\\n\").strip(\"\\t\").lstrip() for x in new_df['Text'].tolist()]"
   ]
  },
  {
   "cell_type": "code",
   "execution_count": null,
   "id": "b9780f95-4379-4c1a-a9dd-35c0be3886f0",
   "metadata": {},
   "outputs": [],
   "source": [
    "scores = []\n",
    "\n",
    "for index, row in new_df.iterrows():\n",
    "    c=0.0\n",
    "    row1 = row['Text'].split(\" \")\n",
    "    # print(row1)\n",
    "    for w in row1:\n",
    "        # print(w)\n",
    "        if str(w) in row['rTaxon'] or str(w) in row['rCollector'] or str(w) in row['rGeography'] :\n",
    "            # print(w)\n",
    "            c+=1.0\n",
    "    scores.append(c/len(row1))        "
   ]
  },
  {
   "cell_type": "code",
   "execution_count": null,
   "id": "6953e4c5-c771-42d0-9aed-86fd1d2b5f20",
   "metadata": {},
   "outputs": [],
   "source": [
    "print(scores)"
   ]
  },
  {
   "cell_type": "code",
   "execution_count": null,
   "id": "85cd6f8d-ddac-4a23-8a60-ec0d3adfc008",
   "metadata": {},
   "outputs": [],
   "source": [
    "len(scores)"
   ]
  },
  {
   "cell_type": "code",
   "execution_count": null,
   "id": "2d1b3d55-2533-4ce8-ac47-df28f6ab738c",
   "metadata": {},
   "outputs": [],
   "source": [
    "combined_score = sum(scores)/35\n",
    "\n",
    "print(combined_score)"
   ]
  },
  {
   "cell_type": "markdown",
   "id": "5e11eaee-1c9d-44bf-a9ab-e182a0bccfa9",
   "metadata": {},
   "source": [
    "### Comparing entire Azure text result with ground truth labels"
   ]
  },
  {
   "cell_type": "code",
   "execution_count": null,
   "id": "23cc4c87-965c-4ac5-9026-2120e6f9c0b8",
   "metadata": {},
   "outputs": [],
   "source": [
    "#Load the azure vision results\n",
    "os.chdir('../CyrillicResults/')\n",
    "print(os.getcwd())\n",
    "# os.chdir('/projectnb/sparkgrp/ml-herbarium-grp/fall2023/temp/')\n",
    "\n",
    "folder_path = os.getcwd()\n",
    "result_files = [f for f in os.listdir(folder_path) if os.path.isfile(os.path.join(folder_path, f)) and f.endswith(('txt'))]\n",
    "\n",
    "#checking for duplicate files\n",
    "print(len(result_files)==len(set(result_files)))\n",
    "rows = []\n",
    "for i in result_files:\n",
    "    # print(i)\n",
    "    # break\n",
    "    f = open(i, 'r')\n",
    "    text = f.read().strip()\n",
    "    new_row = [i.replace('.txt',''),text]\n",
    "    rows.append(new_row)\n",
    "    f.close()"
   ]
  },
  {
   "cell_type": "code",
   "execution_count": null,
   "id": "c5c04d7d-f660-422b-a3fa-9d2b571f2a31",
   "metadata": {},
   "outputs": [],
   "source": [
    "rrt = pd.DataFrame(rows, columns=['ID', 'Text'])"
   ]
  },
  {
   "cell_type": "code",
   "execution_count": null,
   "id": "d92b49d0-eb7e-4c35-8bcc-b195b6fb6ef8",
   "metadata": {},
   "outputs": [],
   "source": [
    "p = re.compile(r'[^\\w\\s]+')\n",
    "\n",
    "for i in rrt[['Text']]:\n",
    "    rrt[i] = rrt[i].astype(str)\n",
    "    rrt[i] = rrt[i].str.lower()\n",
    "    rrt[i] = [p.sub('', x) for x in rrt[i].tolist()]"
   ]
  },
  {
   "cell_type": "code",
   "execution_count": null,
   "id": "77f69f63-38ac-4920-b5ca-e830013ef864",
   "metadata": {},
   "outputs": [],
   "source": [
    "rrt.head()"
   ]
  },
  {
   "cell_type": "code",
   "execution_count": null,
   "id": "2ab4c3db-c021-4861-82e8-5f33f19a7ee4",
   "metadata": {},
   "outputs": [],
   "source": [
    "rrt= rrt.fillna(\"\")\n",
    "rrt['Text'] = [p.sub('', x).strip(\"\\n\").strip(\"\\t\").lstrip() for x in rrt['Text'].tolist()]"
   ]
  },
  {
   "cell_type": "code",
   "execution_count": null,
   "id": "9860a83b-7956-470d-981b-d69d089e7a65",
   "metadata": {},
   "outputs": [],
   "source": [
    "gt= gt.fillna(\"\")\n",
    "gt['Text'] = [p.sub('', x).strip(\"\\n\").strip(\"\\t\").lstrip() for x in gt['Text'].tolist()]\n",
    "gt['Taxon'] = [p.sub('', x).strip(\"\\n\").strip(\"\\t\").lstrip() for x in gt['Taxon'].tolist()]"
   ]
  },
  {
   "cell_type": "code",
   "execution_count": null,
   "id": "3b802e24-9c4b-4949-8f59-611b4139b48e",
   "metadata": {},
   "outputs": [],
   "source": [
    "gt['Combined'] = gt['Taxon'] + \" \" + gt['Text']"
   ]
  },
  {
   "cell_type": "code",
   "execution_count": null,
   "id": "6d59e764-0d2c-4377-90b9-b947edfd0484",
   "metadata": {},
   "outputs": [],
   "source": [
    "gt['rText'] = rrt['Text']"
   ]
  },
  {
   "cell_type": "code",
   "execution_count": null,
   "id": "35228cb8-420d-4fe3-b0b3-fa107dc1d76d",
   "metadata": {},
   "outputs": [],
   "source": [
    "gt['rText'] = [p.sub('', x).replace(\"\\n\", \"\") for x in gt['rText'].tolist()]"
   ]
  },
  {
   "cell_type": "code",
   "execution_count": null,
   "id": "79339d4d-714e-4950-b17a-fa204412cb7e",
   "metadata": {},
   "outputs": [],
   "source": [
    "scores = []\n",
    "\n",
    "for index, row in gt.iterrows():\n",
    "    c=0.0\n",
    "    row1 = row['Text'].split(\" \")\n",
    "    # print(row1)\n",
    "    for w in row1:\n",
    "        # print(w)\n",
    "        if str(w) in row['rText']:\n",
    "            # print(w)\n",
    "            c+=1.0\n",
    "    scores.append(c/len(row1))        "
   ]
  },
  {
   "cell_type": "code",
   "execution_count": null,
   "id": "b274f5ec-d3ac-45b4-a2b3-ed5204919002",
   "metadata": {},
   "outputs": [],
   "source": [
    "print(scores)"
   ]
  },
  {
   "cell_type": "code",
   "execution_count": null,
   "id": "ddbf3755-55f4-48f7-81e5-81f745639fa2",
   "metadata": {},
   "outputs": [],
   "source": [
    "combined_score = sum(scores)/35\n",
    "\n",
    "print(combined_score)"
   ]
  }
 ],
 "metadata": {
  "kernelspec": {
   "display_name": "python3",
   "language": "python",
   "name": "python3"
  }
 },
 "nbformat": 4,
 "nbformat_minor": 5
}
